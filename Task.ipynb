{
 "cells": [
  {
   "cell_type": "code",
   "execution_count": 3,
   "metadata": {},
   "outputs": [
    {
     "name": "stdout",
     "output_type": "stream",
     "text": [
      "Found existing installation: torch 2.6.0+cu118\n",
      "Uninstalling torch-2.6.0+cu118:\n",
      "  Successfully uninstalled torch-2.6.0+cu118\n",
      "Found existing installation: torchvision 0.21.0+cpu\n",
      "Uninstalling torchvision-0.21.0+cpu:\n",
      "  Successfully uninstalled torchvision-0.21.0+cpu\n",
      "Found existing installation: torchaudio 2.6.0+cpu\n",
      "Uninstalling torchaudio-2.6.0+cpu:\n",
      "  Successfully uninstalled torchaudio-2.6.0+cpu\n",
      "Note: you may need to restart the kernel to use updated packages.\n"
     ]
    },
    {
     "name": "stderr",
     "output_type": "stream",
     "text": [
      "WARNING: Ignoring invalid distribution -orch (c:\\users\\raghava\\anaconda3\\lib\\site-packages)\n",
      "WARNING: Ignoring invalid distribution -orch (c:\\users\\raghava\\anaconda3\\lib\\site-packages)\n",
      "WARNING: Ignoring invalid distribution -orch (c:\\users\\raghava\\anaconda3\\lib\\site-packages)\n",
      "WARNING: Ignoring invalid distribution -orch (c:\\users\\raghava\\anaconda3\\lib\\site-packages)\n"
     ]
    }
   ],
   "source": [
    "pip uninstall torch torchvision torchaudio -y\n"
   ]
  },
  {
   "cell_type": "code",
   "execution_count": null,
   "metadata": {},
   "outputs": [],
   "source": [
    "pip install torch torchvision torchaudio --index-url https://download.pytorch.org/whl/cpu\n"
   ]
  },
  {
   "cell_type": "code",
   "execution_count": null,
   "metadata": {},
   "outputs": [],
   "source": [
    "pip install anyio==3.7.1\n"
   ]
  },
  {
   "cell_type": "code",
   "execution_count": null,
   "metadata": {},
   "outputs": [],
   "source": [
    "pip install --upgrade --force-reinstall jupyter_server\n"
   ]
  },
  {
   "cell_type": "code",
   "execution_count": null,
   "metadata": {},
   "outputs": [],
   "source": [
    "python -c \"import fastapi, uvicorn, torch; print('All packages working!')\"\n"
   ]
  },
  {
   "cell_type": "code",
   "execution_count": null,
   "metadata": {},
   "outputs": [],
   "source": [
    "from fastapi import FastAPI\n",
    "from pydantic import BaseModel\n",
    "\n",
    "app = FastAPI()\n",
    "\n",
    "class ModelLog(BaseModel):\n",
    "    model_name: str\n",
    "    accuracy: float\n",
    "\n",
    "@app.post(\"/log\")\n",
    "def log_model(data: ModelLog):\n",
    "    return {\"message\": f\"Logged {data.model_name} with accuracy {data.accuracy}\"}\n"
   ]
  },
  {
   "cell_type": "code",
   "execution_count": null,
   "metadata": {},
   "outputs": [],
   "source": [
    "uvicorn main:app --reload\n"
   ]
  },
  {
   "cell_type": "code",
   "execution_count": null,
   "metadata": {},
   "outputs": [],
   "source": [
    "npx create-react-app automlx-frontend\n",
    "cd automlx-frontend\n",
    "npm install react-flow-renderer\n"
   ]
  },
  {
   "cell_type": "code",
   "execution_count": null,
   "metadata": {},
   "outputs": [],
   "source": [
    "import ReactFlow from 'react-flow-renderer';\n",
    "\n",
    "function PipelineEditor() {\n",
    "    const elements = [\n",
    "        { id: '1', type: 'input', data: { label: 'Start' }, position: { x: 250, y: 5 } },\n",
    "        { id: '2', data: { label: 'Train Model' }, position: { x: 250, y: 100 } },\n",
    "        { id: '3', type: 'output', data: { label: 'Deploy' }, position: { x: 250, y: 200 } },\n",
    "        { id: 'e1-2', source: '1', target: '2', animated: true },\n",
    "        { id: 'e2-3', source: '2', target: '3', animated: true }\n",
    "    ];\n",
    "\n",
    "    return <ReactFlow elements={elements} style={{ height: 400 }} />;\n",
    "}\n",
    "\n",
    "export default PipelineEditor;\n"
   ]
  },
  {
   "cell_type": "code",
   "execution_count": null,
   "metadata": {},
   "outputs": [],
   "source": [
    "npm start\n"
   ]
  },
  {
   "cell_type": "code",
   "execution_count": null,
   "metadata": {},
   "outputs": [],
   "source": [
    "import optuna\n",
    "\n",
    "def objective(trial):\n",
    "    lr = trial.suggest_float(\"lr\", 0.001, 0.1)\n",
    "    return (1 - lr)  # Dummy loss function\n",
    "\n",
    "study = optuna.create_study(direction=\"minimize\")\n",
    "study.optimize(objective, n_trials=10)\n",
    "\n",
    "print(study.best_params)\n"
   ]
  },
  {
   "cell_type": "code",
   "execution_count": null,
   "metadata": {},
   "outputs": [],
   "source": [
    "import torch\n",
    "\n",
    "model = torch.nn.Linear(10, 1)\n",
    "torch.save(model.state_dict(), \"model.pth\")\n"
   ]
  },
  {
   "cell_type": "code",
   "execution_count": null,
   "metadata": {},
   "outputs": [],
   "source": [
    "from fastapi import FastAPI\n",
    "import torch\n",
    "\n",
    "app = FastAPI()\n",
    "model = torch.nn.Linear(10, 1)\n",
    "model.load_state_dict(torch.load(\"model.pth\"))\n",
    "\n",
    "@app.post(\"/predict\")\n",
    "def predict(data: list):\n",
    "    input_tensor = torch.tensor(data)\n",
    "    return {\"prediction\": model(input_tensor).tolist()}\n"
   ]
  },
  {
   "cell_type": "code",
   "execution_count": null,
   "metadata": {},
   "outputs": [],
   "source": [
    "import shap\n",
    "import numpy as np\n",
    "\n",
    "X = np.random.rand(100, 10)\n",
    "explainer = shap.Explainer(model)\n",
    "shap_values = explainer(X)\n",
    "shap.summary_plot(shap_values, X)\n"
   ]
  },
  {
   "cell_type": "code",
   "execution_count": null,
   "metadata": {},
   "outputs": [],
   "source": [
    "docker run -p 9090:9090 prom/prometheus\n"
   ]
  },
  {
   "cell_type": "code",
   "execution_count": null,
   "metadata": {},
   "outputs": [],
   "source": []
  }
 ],
 "metadata": {
  "kernelspec": {
   "display_name": "Python 3 (ipykernel)",
   "language": "python",
   "name": "python3"
  },
  "language_info": {
   "codemirror_mode": {
    "name": "ipython",
    "version": 3
   },
   "file_extension": ".py",
   "mimetype": "text/x-python",
   "name": "python",
   "nbconvert_exporter": "python",
   "pygments_lexer": "ipython3",
   "version": "3.10.9"
  }
 },
 "nbformat": 4,
 "nbformat_minor": 2
}
