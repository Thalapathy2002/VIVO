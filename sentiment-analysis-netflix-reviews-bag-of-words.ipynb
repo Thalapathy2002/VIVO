{
 "cells": [
  {
   "cell_type": "markdown",
   "id": "cbb6be96",
   "metadata": {
    "papermill": {
     "duration": 0.01878,
     "end_time": "2024-05-27T09:25:47.509679",
     "exception": false,
     "start_time": "2024-05-27T09:25:47.490899",
     "status": "completed"
    },
    "tags": []
   },
   "source": [
    "# Importing Libraries"
   ]
  },
  {
   "cell_type": "code",
   "execution_count": 1,
   "id": "82088f86",
   "metadata": {
    "execution": {
     "iopub.execute_input": "2024-05-27T09:25:47.547978Z",
     "iopub.status.busy": "2024-05-27T09:25:47.547671Z",
     "iopub.status.idle": "2024-05-27T09:26:01.609243Z",
     "shell.execute_reply": "2024-05-27T09:26:01.608120Z"
    },
    "papermill": {
     "duration": 14.083323,
     "end_time": "2024-05-27T09:26:01.611275",
     "exception": false,
     "start_time": "2024-05-27T09:25:47.527952",
     "status": "completed"
    },
    "tags": []
   },
   "outputs": [
    {
     "name": "stdout",
     "output_type": "stream",
     "text": [
      "Collecting contractions\r\n",
      "  Downloading contractions-0.1.73-py2.py3-none-any.whl.metadata (1.2 kB)\r\n",
      "Collecting textsearch>=0.0.21 (from contractions)\r\n",
      "  Downloading textsearch-0.0.24-py2.py3-none-any.whl.metadata (1.2 kB)\r\n",
      "Collecting anyascii (from textsearch>=0.0.21->contractions)\r\n",
      "  Downloading anyascii-0.3.2-py3-none-any.whl.metadata (1.5 kB)\r\n",
      "Collecting pyahocorasick (from textsearch>=0.0.21->contractions)\r\n",
      "  Downloading pyahocorasick-2.1.0-cp310-cp310-manylinux_2_5_x86_64.manylinux1_x86_64.manylinux_2_12_x86_64.manylinux2010_x86_64.whl.metadata (13 kB)\r\n",
      "Downloading contractions-0.1.73-py2.py3-none-any.whl (8.7 kB)\r\n",
      "Downloading textsearch-0.0.24-py2.py3-none-any.whl (7.6 kB)\r\n",
      "Downloading anyascii-0.3.2-py3-none-any.whl (289 kB)\r\n",
      "\u001b[2K   \u001b[90m━━━━━━━━━━━━━━━━━━━━━━━━━━━━━━━━━━━━━━━━\u001b[0m \u001b[32m289.9/289.9 kB\u001b[0m \u001b[31m2.7 MB/s\u001b[0m eta \u001b[36m0:00:00\u001b[0m\r\n",
      "\u001b[?25hDownloading pyahocorasick-2.1.0-cp310-cp310-manylinux_2_5_x86_64.manylinux1_x86_64.manylinux_2_12_x86_64.manylinux2010_x86_64.whl (110 kB)\r\n",
      "\u001b[2K   \u001b[90m━━━━━━━━━━━━━━━━━━━━━━━━━━━━━━━━━━━━━━━━\u001b[0m \u001b[32m110.7/110.7 kB\u001b[0m \u001b[31m7.8 MB/s\u001b[0m eta \u001b[36m0:00:00\u001b[0m\r\n",
      "\u001b[?25hInstalling collected packages: pyahocorasick, anyascii, textsearch, contractions\r\n",
      "Successfully installed anyascii-0.3.2 contractions-0.1.73 pyahocorasick-2.1.0 textsearch-0.0.24\r\n",
      "Note: you may need to restart the kernel to use updated packages.\n"
     ]
    }
   ],
   "source": [
    "pip install contractions"
   ]
  },
  {
   "cell_type": "code",
   "execution_count": 2,
   "id": "7b720f7d",
   "metadata": {
    "execution": {
     "iopub.execute_input": "2024-05-27T09:26:01.651877Z",
     "iopub.status.busy": "2024-05-27T09:26:01.651586Z",
     "iopub.status.idle": "2024-05-27T09:26:13.569551Z",
     "shell.execute_reply": "2024-05-27T09:26:13.568262Z"
    },
    "papermill": {
     "duration": 11.940648,
     "end_time": "2024-05-27T09:26:13.571558",
     "exception": false,
     "start_time": "2024-05-27T09:26:01.630910",
     "status": "completed"
    },
    "tags": []
   },
   "outputs": [
    {
     "name": "stdout",
     "output_type": "stream",
     "text": [
      "Requirement already satisfied: xgboost in /opt/conda/lib/python3.10/site-packages (2.0.3)\r\n",
      "Requirement already satisfied: numpy in /opt/conda/lib/python3.10/site-packages (from xgboost) (1.26.4)\r\n",
      "Requirement already satisfied: scipy in /opt/conda/lib/python3.10/site-packages (from xgboost) (1.11.4)\r\n",
      "Note: you may need to restart the kernel to use updated packages.\n"
     ]
    }
   ],
   "source": [
    "pip install xgboost"
   ]
  },
  {
   "cell_type": "code",
   "execution_count": null,
   "id": "e0b784c7",
   "metadata": {
    "execution": {
     "iopub.execute_input": "2024-05-27T09:26:13.612583Z",
     "iopub.status.busy": "2024-05-27T09:26:13.611860Z",
     "iopub.status.idle": "2024-05-27T09:26:15.453863Z",
     "shell.execute_reply": "2024-05-27T09:26:15.452901Z"
    },
    "papermill": {
     "duration": 1.864944,
     "end_time": "2024-05-27T09:26:15.456289",
     "exception": false,
     "start_time": "2024-05-27T09:26:13.591345",
     "status": "completed"
    },
    "tags": []
   },
   "outputs": [
    {
     "name": "stdout",
     "output_type": "stream",
     "text": [
      "\u001b[31mERROR: Could not find a version that satisfies the requirement re (from versions: none)\u001b[0m\u001b[31m\r\n",
      "\u001b[0m\u001b[31mERROR: No matching distribution found for re\u001b[0m\u001b[31m\r\n",
      "\u001b[0m"
     ]
    }
   ],
   "source": [
    "!pip install re"
   ]
  },
  {
   "cell_type": "code",
   "execution_count": 4,
   "id": "45cdd97d",
   "metadata": {
    "execution": {
     "iopub.execute_input": "2024-05-27T09:26:15.497701Z",
     "iopub.status.busy": "2024-05-27T09:26:15.497357Z",
     "iopub.status.idle": "2024-05-27T09:26:18.011234Z",
     "shell.execute_reply": "2024-05-27T09:26:18.010502Z"
    },
    "papermill": {
     "duration": 2.536847,
     "end_time": "2024-05-27T09:26:18.013623",
     "exception": false,
     "start_time": "2024-05-27T09:26:15.476776",
     "status": "completed"
    },
    "tags": []
   },
   "outputs": [],
   "source": [
    "import numpy as np\n",
    "import pandas as pd \n",
    "import matplotlib.pyplot as plt \n",
    "import seaborn as sns\n",
    "import nltk\n",
    "import string\n",
    "import contractions\n",
    "import re\n",
    "from nltk.corpus import stopwords\n",
    "import time\n",
    "from nltk.stem import PorterStemmer"
   ]
  },
  {
   "cell_type": "code",
   "execution_count": 5,
   "id": "b1d33cc0",
   "metadata": {
    "execution": {
     "iopub.execute_input": "2024-05-27T09:26:18.054617Z",
     "iopub.status.busy": "2024-05-27T09:26:18.054171Z",
     "iopub.status.idle": "2024-05-27T09:26:18.058574Z",
     "shell.execute_reply": "2024-05-27T09:26:18.057714Z"
    },
    "papermill": {
     "duration": 0.026859,
     "end_time": "2024-05-27T09:26:18.060576",
     "exception": false,
     "start_time": "2024-05-27T09:26:18.033717",
     "status": "completed"
    },
    "tags": []
   },
   "outputs": [],
   "source": [
    "plt.style.use('fivethirtyeight')\n",
    "ps = PorterStemmer()"
   ]
  },
  {
   "cell_type": "markdown",
   "id": "e0f582bc",
   "metadata": {
    "papermill": {
     "duration": 0.019295,
     "end_time": "2024-05-27T09:26:18.099442",
     "exception": false,
     "start_time": "2024-05-27T09:26:18.080147",
     "status": "completed"
    },
    "tags": []
   },
   "source": [
    "# Importing Dataset"
   ]
  },
  {
   "cell_type": "code",
   "execution_count": 6,
   "id": "0c1e2f98",
   "metadata": {
    "execution": {
     "iopub.execute_input": "2024-05-27T09:26:18.139858Z",
     "iopub.status.busy": "2024-05-27T09:26:18.139226Z",
     "iopub.status.idle": "2024-05-27T09:26:19.170600Z",
     "shell.execute_reply": "2024-05-27T09:26:19.169723Z"
    },
    "papermill": {
     "duration": 1.05419,
     "end_time": "2024-05-27T09:26:19.172967",
     "exception": false,
     "start_time": "2024-05-27T09:26:18.118777",
     "status": "completed"
    },
    "tags": []
   },
   "outputs": [],
   "source": [
    "df = pd.read_csv('/kaggle/input/netflix-reviews-playstore-daily-updated/netflix_reviews.csv')"
   ]
  },
  {
   "cell_type": "code",
   "execution_count": 7,
   "id": "3362c670",
   "metadata": {
    "execution": {
     "iopub.execute_input": "2024-05-27T09:26:19.215041Z",
     "iopub.status.busy": "2024-05-27T09:26:19.214724Z",
     "iopub.status.idle": "2024-05-27T09:26:19.234695Z",
     "shell.execute_reply": "2024-05-27T09:26:19.233812Z"
    },
    "papermill": {
     "duration": 0.043368,
     "end_time": "2024-05-27T09:26:19.236814",
     "exception": false,
     "start_time": "2024-05-27T09:26:19.193446",
     "status": "completed"
    },
    "tags": []
   },
   "outputs": [
    {
     "data": {
      "text/html": [
       "<div>\n",
       "<style scoped>\n",
       "    .dataframe tbody tr th:only-of-type {\n",
       "        vertical-align: middle;\n",
       "    }\n",
       "\n",
       "    .dataframe tbody tr th {\n",
       "        vertical-align: top;\n",
       "    }\n",
       "\n",
       "    .dataframe thead th {\n",
       "        text-align: right;\n",
       "    }\n",
       "</style>\n",
       "<table border=\"1\" class=\"dataframe\">\n",
       "  <thead>\n",
       "    <tr style=\"text-align: right;\">\n",
       "      <th></th>\n",
       "      <th>reviewId</th>\n",
       "      <th>userName</th>\n",
       "      <th>content</th>\n",
       "      <th>score</th>\n",
       "      <th>thumbsUpCount</th>\n",
       "      <th>reviewCreatedVersion</th>\n",
       "      <th>at</th>\n",
       "      <th>appVersion</th>\n",
       "    </tr>\n",
       "  </thead>\n",
       "  <tbody>\n",
       "    <tr>\n",
       "      <th>0</th>\n",
       "      <td>5d12b3ec-f34d-4711-8280-eca2604d559a</td>\n",
       "      <td>Dineo Nickel</td>\n",
       "      <td>please bring back some old shows that got a lo...</td>\n",
       "      <td>4</td>\n",
       "      <td>0</td>\n",
       "      <td>8.115.2 build 6 50688</td>\n",
       "      <td>2024-05-25 22:40:09</td>\n",
       "      <td>8.115.2 build 6 50688</td>\n",
       "    </tr>\n",
       "    <tr>\n",
       "      <th>1</th>\n",
       "      <td>9ae077fb-c2f1-4ee3-8e68-35be80d704a1</td>\n",
       "      <td>Issa tunde</td>\n",
       "      <td>Thank you</td>\n",
       "      <td>5</td>\n",
       "      <td>0</td>\n",
       "      <td>8.112.1 build 6 50665</td>\n",
       "      <td>2024-05-25 22:37:12</td>\n",
       "      <td>8.112.1 build 6 50665</td>\n",
       "    </tr>\n",
       "    <tr>\n",
       "      <th>2</th>\n",
       "      <td>b89f2695-e803-4e9a-a9ec-c6156642d892</td>\n",
       "      <td>pro gamer (Pratham)</td>\n",
       "      <td>geat free games but we wantMinecraft java edition</td>\n",
       "      <td>5</td>\n",
       "      <td>0</td>\n",
       "      <td>8.109.0 build 7 50647</td>\n",
       "      <td>2024-05-25 22:30:33</td>\n",
       "      <td>8.109.0 build 7 50647</td>\n",
       "    </tr>\n",
       "    <tr>\n",
       "      <th>3</th>\n",
       "      <td>687c952f-4b53-43ab-9e8f-bae26ad875d0</td>\n",
       "      <td>Devon Bryant</td>\n",
       "      <td>Won't open on my phone....</td>\n",
       "      <td>1</td>\n",
       "      <td>1</td>\n",
       "      <td>8.115.2 build 6 50688</td>\n",
       "      <td>2024-05-25 22:30:16</td>\n",
       "      <td>8.115.2 build 6 50688</td>\n",
       "    </tr>\n",
       "    <tr>\n",
       "      <th>4</th>\n",
       "      <td>da1f671f-dd67-45e0-8225-575bcd373bed</td>\n",
       "      <td>Liz Gichora</td>\n",
       "      <td>User friendly, helpful.</td>\n",
       "      <td>5</td>\n",
       "      <td>0</td>\n",
       "      <td>8.115.2 build 6 50688</td>\n",
       "      <td>2024-05-25 22:30:11</td>\n",
       "      <td>8.115.2 build 6 50688</td>\n",
       "    </tr>\n",
       "  </tbody>\n",
       "</table>\n",
       "</div>"
      ],
      "text/plain": [
       "                               reviewId             userName  \\\n",
       "0  5d12b3ec-f34d-4711-8280-eca2604d559a         Dineo Nickel   \n",
       "1  9ae077fb-c2f1-4ee3-8e68-35be80d704a1           Issa tunde   \n",
       "2  b89f2695-e803-4e9a-a9ec-c6156642d892  pro gamer (Pratham)   \n",
       "3  687c952f-4b53-43ab-9e8f-bae26ad875d0         Devon Bryant   \n",
       "4  da1f671f-dd67-45e0-8225-575bcd373bed          Liz Gichora   \n",
       "\n",
       "                                             content  score  thumbsUpCount  \\\n",
       "0  please bring back some old shows that got a lo...      4              0   \n",
       "1                                          Thank you      5              0   \n",
       "2  geat free games but we wantMinecraft java edition      5              0   \n",
       "3                         Won't open on my phone....      1              1   \n",
       "4                            User friendly, helpful.      5              0   \n",
       "\n",
       "    reviewCreatedVersion                   at             appVersion  \n",
       "0  8.115.2 build 6 50688  2024-05-25 22:40:09  8.115.2 build 6 50688  \n",
       "1  8.112.1 build 6 50665  2024-05-25 22:37:12  8.112.1 build 6 50665  \n",
       "2  8.109.0 build 7 50647  2024-05-25 22:30:33  8.109.0 build 7 50647  \n",
       "3  8.115.2 build 6 50688  2024-05-25 22:30:16  8.115.2 build 6 50688  \n",
       "4  8.115.2 build 6 50688  2024-05-25 22:30:11  8.115.2 build 6 50688  "
      ]
     },
     "execution_count": 7,
     "metadata": {},
     "output_type": "execute_result"
    }
   ],
   "source": [
    "df.head()"
   ]
  },
  {
   "cell_type": "code",
   "execution_count": 8,
   "id": "344d4032",
   "metadata": {
    "execution": {
     "iopub.execute_input": "2024-05-27T09:26:19.279256Z",
     "iopub.status.busy": "2024-05-27T09:26:19.278972Z",
     "iopub.status.idle": "2024-05-27T09:26:19.284290Z",
     "shell.execute_reply": "2024-05-27T09:26:19.283498Z"
    },
    "papermill": {
     "duration": 0.027732,
     "end_time": "2024-05-27T09:26:19.286078",
     "exception": false,
     "start_time": "2024-05-27T09:26:19.258346",
     "status": "completed"
    },
    "tags": []
   },
   "outputs": [
    {
     "data": {
      "text/plain": [
       "(110418, 8)"
      ]
     },
     "execution_count": 8,
     "metadata": {},
     "output_type": "execute_result"
    }
   ],
   "source": [
    "df.shape"
   ]
  },
  {
   "cell_type": "markdown",
   "id": "7f71400f",
   "metadata": {
    "papermill": {
     "duration": 0.019758,
     "end_time": "2024-05-27T09:26:19.325702",
     "exception": false,
     "start_time": "2024-05-27T09:26:19.305944",
     "status": "completed"
    },
    "tags": []
   },
   "source": [
    "# Dataset"
   ]
  },
  {
   "cell_type": "markdown",
   "id": "bc7cb51e",
   "metadata": {
    "papermill": {
     "duration": 0.019645,
     "end_time": "2024-05-27T09:26:19.364887",
     "exception": false,
     "start_time": "2024-05-27T09:26:19.345242",
     "status": "completed"
    },
    "tags": []
   },
   "source": [
    "### `Dataset Summary`"
   ]
  },
  {
   "cell_type": "markdown",
   "id": "aac4b316",
   "metadata": {
    "papermill": {
     "duration": 0.019443,
     "end_time": "2024-05-27T09:26:19.404170",
     "exception": false,
     "start_time": "2024-05-27T09:26:19.384727",
     "status": "completed"
    },
    "tags": []
   },
   "source": [
    "This dataset contains information about the reviews given by netflix users on Google Play Store. Apart from the reviews, it also contains information about the ratings and the date of review as well as the likes on each of the review. There are total of 110224 reviews provided for the Netflix application."
   ]
  },
  {
   "cell_type": "markdown",
   "id": "63fec149",
   "metadata": {
    "papermill": {
     "duration": 0.019427,
     "end_time": "2024-05-27T09:26:19.443337",
     "exception": false,
     "start_time": "2024-05-27T09:26:19.423910",
     "status": "completed"
    },
    "tags": []
   },
   "source": [
    "### `Column Description`"
   ]
  },
  {
   "cell_type": "markdown",
   "id": "4cc0b42a",
   "metadata": {
    "papermill": {
     "duration": 0.01938,
     "end_time": "2024-05-27T09:26:19.482208",
     "exception": false,
     "start_time": "2024-05-27T09:26:19.462828",
     "status": "completed"
    },
    "tags": []
   },
   "source": [
    "- `reviewId:` represents a unique review id corresponding to each review \n",
    "- `userName:` provides information about the name of user who has given the review. There are total 77417 unique usernames which provided the review.\n",
    "- `content:` it is the review provided by user \n",
    "- `score:` it is the rating value provided along-side the review indicating the level of satisfaction. It has 5 categories \n",
    "- `thumbsUpCount:` it is the total likes received by a particular review by other users\n",
    "- `reviewCreatedVersion:` it is version of review given by the user\n",
    "- `at:` the date & time of creating a review \n",
    "- `appVersion:` the version of application for which review was provided"
   ]
  },
  {
   "cell_type": "markdown",
   "id": "9abb93a2",
   "metadata": {
    "papermill": {
     "duration": 0.019318,
     "end_time": "2024-05-27T09:26:19.521147",
     "exception": false,
     "start_time": "2024-05-27T09:26:19.501829",
     "status": "completed"
    },
    "tags": []
   },
   "source": [
    "# Data Cleaning"
   ]
  },
  {
   "cell_type": "markdown",
   "id": "e173ad65",
   "metadata": {
    "papermill": {
     "duration": 0.01976,
     "end_time": "2024-05-27T09:26:19.561818",
     "exception": false,
     "start_time": "2024-05-27T09:26:19.542058",
     "status": "completed"
    },
    "tags": []
   },
   "source": [
    "### `Issues with the dataset`\n",
    "- reviewId, userName, reviewCreatedVersion & appVersion are irrelevant to our discussion, so better get rid of it. \n",
    "- There are 2 reviews missing from the dataset\n",
    "- There are 1 username missing.There are 15761 app & review version missing from the dataset. Both of them will be handled when we remove the above features as we mentioned.\n",
    "- We can extract year from `at` for better analysis \n",
    "- only 25% reviews have 1 or more thumbs up on their review. It is very skewed.\n",
    "- Score only has values in the range [1,5]. So, int64 is not needed to store the information. Similarly, thumbsUpCount does not need int64 and we can replace that too.\n",
    "- we need to create a new predicted output label for each review stating the emotion of the review based on the text and on the rating provided by the user. Let us create 3 labels:\n",
    "    - Happy\n",
    "    - Neutral\n",
    "    - Sad"
   ]
  },
  {
   "cell_type": "markdown",
   "id": "4c81ac54",
   "metadata": {
    "papermill": {
     "duration": 0.020278,
     "end_time": "2024-05-27T09:26:19.602808",
     "exception": false,
     "start_time": "2024-05-27T09:26:19.582530",
     "status": "completed"
    },
    "tags": []
   },
   "source": [
    "### `Dataset Assessment`"
   ]
  },
  {
   "cell_type": "code",
   "execution_count": 9,
   "id": "c37c04c3",
   "metadata": {
    "execution": {
     "iopub.execute_input": "2024-05-27T09:26:19.688171Z",
     "iopub.status.busy": "2024-05-27T09:26:19.687411Z",
     "iopub.status.idle": "2024-05-27T09:26:19.787418Z",
     "shell.execute_reply": "2024-05-27T09:26:19.786355Z"
    },
    "papermill": {
     "duration": 0.166064,
     "end_time": "2024-05-27T09:26:19.789633",
     "exception": false,
     "start_time": "2024-05-27T09:26:19.623569",
     "status": "completed"
    },
    "tags": []
   },
   "outputs": [
    {
     "name": "stdout",
     "output_type": "stream",
     "text": [
      "<class 'pandas.core.frame.DataFrame'>\n",
      "RangeIndex: 110418 entries, 0 to 110417\n",
      "Data columns (total 8 columns):\n",
      " #   Column                Non-Null Count   Dtype \n",
      "---  ------                --------------   ----- \n",
      " 0   reviewId              110418 non-null  object\n",
      " 1   userName              110417 non-null  object\n",
      " 2   content               110416 non-null  object\n",
      " 3   score                 110418 non-null  int64 \n",
      " 4   thumbsUpCount         110418 non-null  int64 \n",
      " 5   reviewCreatedVersion  94607 non-null   object\n",
      " 6   at                    110418 non-null  object\n",
      " 7   appVersion            94607 non-null   object\n",
      "dtypes: int64(2), object(6)\n",
      "memory usage: 6.7+ MB\n"
     ]
    }
   ],
   "source": [
    "df.info()"
   ]
  },
  {
   "cell_type": "code",
   "execution_count": 10,
   "id": "d5ff8839",
   "metadata": {
    "execution": {
     "iopub.execute_input": "2024-05-27T09:26:19.832833Z",
     "iopub.status.busy": "2024-05-27T09:26:19.832521Z",
     "iopub.status.idle": "2024-05-27T09:26:19.855897Z",
     "shell.execute_reply": "2024-05-27T09:26:19.854896Z"
    },
    "papermill": {
     "duration": 0.046606,
     "end_time": "2024-05-27T09:26:19.858029",
     "exception": false,
     "start_time": "2024-05-27T09:26:19.811423",
     "status": "completed"
    },
    "tags": []
   },
   "outputs": [
    {
     "data": {
      "text/html": [
       "<div>\n",
       "<style scoped>\n",
       "    .dataframe tbody tr th:only-of-type {\n",
       "        vertical-align: middle;\n",
       "    }\n",
       "\n",
       "    .dataframe tbody tr th {\n",
       "        vertical-align: top;\n",
       "    }\n",
       "\n",
       "    .dataframe thead th {\n",
       "        text-align: right;\n",
       "    }\n",
       "</style>\n",
       "<table border=\"1\" class=\"dataframe\">\n",
       "  <thead>\n",
       "    <tr style=\"text-align: right;\">\n",
       "      <th></th>\n",
       "      <th>score</th>\n",
       "      <th>thumbsUpCount</th>\n",
       "    </tr>\n",
       "  </thead>\n",
       "  <tbody>\n",
       "    <tr>\n",
       "      <th>count</th>\n",
       "      <td>110418.000000</td>\n",
       "      <td>110418.000000</td>\n",
       "    </tr>\n",
       "    <tr>\n",
       "      <th>mean</th>\n",
       "      <td>2.809125</td>\n",
       "      <td>10.685685</td>\n",
       "    </tr>\n",
       "    <tr>\n",
       "      <th>std</th>\n",
       "      <td>1.696357</td>\n",
       "      <td>101.546614</td>\n",
       "    </tr>\n",
       "    <tr>\n",
       "      <th>min</th>\n",
       "      <td>1.000000</td>\n",
       "      <td>0.000000</td>\n",
       "    </tr>\n",
       "    <tr>\n",
       "      <th>25%</th>\n",
       "      <td>1.000000</td>\n",
       "      <td>0.000000</td>\n",
       "    </tr>\n",
       "    <tr>\n",
       "      <th>50%</th>\n",
       "      <td>3.000000</td>\n",
       "      <td>0.000000</td>\n",
       "    </tr>\n",
       "    <tr>\n",
       "      <th>75%</th>\n",
       "      <td>5.000000</td>\n",
       "      <td>1.000000</td>\n",
       "    </tr>\n",
       "    <tr>\n",
       "      <th>max</th>\n",
       "      <td>5.000000</td>\n",
       "      <td>8032.000000</td>\n",
       "    </tr>\n",
       "  </tbody>\n",
       "</table>\n",
       "</div>"
      ],
      "text/plain": [
       "               score  thumbsUpCount\n",
       "count  110418.000000  110418.000000\n",
       "mean        2.809125      10.685685\n",
       "std         1.696357     101.546614\n",
       "min         1.000000       0.000000\n",
       "25%         1.000000       0.000000\n",
       "50%         3.000000       0.000000\n",
       "75%         5.000000       1.000000\n",
       "max         5.000000    8032.000000"
      ]
     },
     "execution_count": 10,
     "metadata": {},
     "output_type": "execute_result"
    }
   ],
   "source": [
    "# lets take a look at numerical features\n",
    "df.describe()"
   ]
  },
  {
   "cell_type": "code",
   "execution_count": 11,
   "id": "3fc6ff7e",
   "metadata": {
    "execution": {
     "iopub.execute_input": "2024-05-27T09:26:19.902175Z",
     "iopub.status.busy": "2024-05-27T09:26:19.901884Z",
     "iopub.status.idle": "2024-05-27T09:26:19.970132Z",
     "shell.execute_reply": "2024-05-27T09:26:19.969219Z"
    },
    "papermill": {
     "duration": 0.091736,
     "end_time": "2024-05-27T09:26:19.972127",
     "exception": false,
     "start_time": "2024-05-27T09:26:19.880391",
     "status": "completed"
    },
    "tags": []
   },
   "outputs": [
    {
     "data": {
      "text/plain": [
       "reviewId                    0\n",
       "userName                    1\n",
       "content                     2\n",
       "score                       0\n",
       "thumbsUpCount               0\n",
       "reviewCreatedVersion    15811\n",
       "at                          0\n",
       "appVersion              15811\n",
       "dtype: int64"
      ]
     },
     "execution_count": 11,
     "metadata": {},
     "output_type": "execute_result"
    }
   ],
   "source": [
    "# we have to handle missing values \n",
    "df.isnull().sum()"
   ]
  },
  {
   "cell_type": "code",
   "execution_count": 12,
   "id": "b3f073e9",
   "metadata": {
    "execution": {
     "iopub.execute_input": "2024-05-27T09:26:20.015171Z",
     "iopub.status.busy": "2024-05-27T09:26:20.014461Z",
     "iopub.status.idle": "2024-05-27T09:26:20.174742Z",
     "shell.execute_reply": "2024-05-27T09:26:20.173891Z"
    },
    "papermill": {
     "duration": 0.183337,
     "end_time": "2024-05-27T09:26:20.176860",
     "exception": false,
     "start_time": "2024-05-27T09:26:19.993523",
     "status": "completed"
    },
    "tags": []
   },
   "outputs": [
    {
     "data": {
      "text/plain": [
       "287"
      ]
     },
     "execution_count": 12,
     "metadata": {},
     "output_type": "execute_result"
    }
   ],
   "source": [
    "# there are 287 duplicate rows in the dataset\n",
    "df.duplicated().sum()"
   ]
  },
  {
   "cell_type": "code",
   "execution_count": 13,
   "id": "66ec9161",
   "metadata": {
    "execution": {
     "iopub.execute_input": "2024-05-27T09:26:20.220269Z",
     "iopub.status.busy": "2024-05-27T09:26:20.219695Z",
     "iopub.status.idle": "2024-05-27T09:26:20.369553Z",
     "shell.execute_reply": "2024-05-27T09:26:20.368522Z"
    },
    "papermill": {
     "duration": 0.174189,
     "end_time": "2024-05-27T09:26:20.372234",
     "exception": false,
     "start_time": "2024-05-27T09:26:20.198045",
     "status": "completed"
    },
    "tags": []
   },
   "outputs": [
    {
     "data": {
      "text/html": [
       "<div>\n",
       "<style scoped>\n",
       "    .dataframe tbody tr th:only-of-type {\n",
       "        vertical-align: middle;\n",
       "    }\n",
       "\n",
       "    .dataframe tbody tr th {\n",
       "        vertical-align: top;\n",
       "    }\n",
       "\n",
       "    .dataframe thead th {\n",
       "        text-align: right;\n",
       "    }\n",
       "</style>\n",
       "<table border=\"1\" class=\"dataframe\">\n",
       "  <thead>\n",
       "    <tr style=\"text-align: right;\">\n",
       "      <th></th>\n",
       "      <th>reviewId</th>\n",
       "      <th>userName</th>\n",
       "      <th>content</th>\n",
       "      <th>score</th>\n",
       "      <th>thumbsUpCount</th>\n",
       "      <th>reviewCreatedVersion</th>\n",
       "      <th>at</th>\n",
       "      <th>appVersion</th>\n",
       "    </tr>\n",
       "  </thead>\n",
       "  <tbody>\n",
       "    <tr>\n",
       "      <th>2854</th>\n",
       "      <td>0993f287-c355-4239-b28f-2887eb872e11</td>\n",
       "      <td>Erina Iqbal</td>\n",
       "      <td>faltu</td>\n",
       "      <td>1</td>\n",
       "      <td>0</td>\n",
       "      <td>NaN</td>\n",
       "      <td>2024-05-09 13:44:04</td>\n",
       "      <td>NaN</td>\n",
       "    </tr>\n",
       "    <tr>\n",
       "      <th>2864</th>\n",
       "      <td>7bf81953-3d4c-4cb5-bd93-73b91bffc555</td>\n",
       "      <td>Jill Imperial</td>\n",
       "      <td>Very good!</td>\n",
       "      <td>5</td>\n",
       "      <td>0</td>\n",
       "      <td>8.113.3 build 31 50678</td>\n",
       "      <td>2024-05-09 12:15:23</td>\n",
       "      <td>8.113.3 build 31 50678</td>\n",
       "    </tr>\n",
       "    <tr>\n",
       "      <th>1621</th>\n",
       "      <td>5c408cd3-86ab-41ff-b29b-03686d063804</td>\n",
       "      <td>Yogesh Sahu</td>\n",
       "      <td>Total entertainment Ott</td>\n",
       "      <td>5</td>\n",
       "      <td>0</td>\n",
       "      <td>8.111.0 build 4 50659</td>\n",
       "      <td>2024-05-17 06:12:50</td>\n",
       "      <td>8.111.0 build 4 50659</td>\n",
       "    </tr>\n",
       "  </tbody>\n",
       "</table>\n",
       "</div>"
      ],
      "text/plain": [
       "                                  reviewId       userName  \\\n",
       "2854  0993f287-c355-4239-b28f-2887eb872e11    Erina Iqbal   \n",
       "2864  7bf81953-3d4c-4cb5-bd93-73b91bffc555  Jill Imperial   \n",
       "1621  5c408cd3-86ab-41ff-b29b-03686d063804    Yogesh Sahu   \n",
       "\n",
       "                      content  score  thumbsUpCount    reviewCreatedVersion  \\\n",
       "2854                    faltu      1              0                     NaN   \n",
       "2864               Very good!      5              0  8.113.3 build 31 50678   \n",
       "1621  Total entertainment Ott      5              0   8.111.0 build 4 50659   \n",
       "\n",
       "                       at              appVersion  \n",
       "2854  2024-05-09 13:44:04                     NaN  \n",
       "2864  2024-05-09 12:15:23  8.113.3 build 31 50678  \n",
       "1621  2024-05-17 06:12:50   8.111.0 build 4 50659  "
      ]
     },
     "execution_count": 13,
     "metadata": {},
     "output_type": "execute_result"
    }
   ],
   "source": [
    "# let's look at the duplicate rows. we'll handle these during our data cleaning step\n",
    "df[df.duplicated()].sample(3)"
   ]
  },
  {
   "cell_type": "markdown",
   "id": "cca60b61",
   "metadata": {
    "papermill": {
     "duration": 0.020276,
     "end_time": "2024-05-27T09:26:20.413520",
     "exception": false,
     "start_time": "2024-05-27T09:26:20.393244",
     "status": "completed"
    },
    "tags": []
   },
   "source": [
    "### `Cleaning`"
   ]
  },
  {
   "cell_type": "code",
   "execution_count": 14,
   "id": "dfc4da70",
   "metadata": {
    "execution": {
     "iopub.execute_input": "2024-05-27T09:26:20.456050Z",
     "iopub.status.busy": "2024-05-27T09:26:20.455764Z",
     "iopub.status.idle": "2024-05-27T09:26:20.464680Z",
     "shell.execute_reply": "2024-05-27T09:26:20.463909Z"
    },
    "papermill": {
     "duration": 0.0325,
     "end_time": "2024-05-27T09:26:20.466590",
     "exception": false,
     "start_time": "2024-05-27T09:26:20.434090",
     "status": "completed"
    },
    "tags": []
   },
   "outputs": [],
   "source": [
    "# first of all, let's get rid of the features which are irrelevant to us\n",
    "df = df[['content','score','thumbsUpCount','at']]"
   ]
  },
  {
   "cell_type": "code",
   "execution_count": 15,
   "id": "d550855a",
   "metadata": {
    "execution": {
     "iopub.execute_input": "2024-05-27T09:26:20.509510Z",
     "iopub.status.busy": "2024-05-27T09:26:20.508993Z",
     "iopub.status.idle": "2024-05-27T09:26:20.530987Z",
     "shell.execute_reply": "2024-05-27T09:26:20.530067Z"
    },
    "papermill": {
     "duration": 0.045879,
     "end_time": "2024-05-27T09:26:20.533158",
     "exception": false,
     "start_time": "2024-05-27T09:26:20.487279",
     "status": "completed"
    },
    "tags": []
   },
   "outputs": [
    {
     "data": {
      "text/html": [
       "<div>\n",
       "<style scoped>\n",
       "    .dataframe tbody tr th:only-of-type {\n",
       "        vertical-align: middle;\n",
       "    }\n",
       "\n",
       "    .dataframe tbody tr th {\n",
       "        vertical-align: top;\n",
       "    }\n",
       "\n",
       "    .dataframe thead th {\n",
       "        text-align: right;\n",
       "    }\n",
       "</style>\n",
       "<table border=\"1\" class=\"dataframe\">\n",
       "  <thead>\n",
       "    <tr style=\"text-align: right;\">\n",
       "      <th></th>\n",
       "      <th>content</th>\n",
       "      <th>score</th>\n",
       "      <th>thumbsUpCount</th>\n",
       "      <th>at</th>\n",
       "    </tr>\n",
       "  </thead>\n",
       "  <tbody>\n",
       "    <tr>\n",
       "      <th>734</th>\n",
       "      <td>NaN</td>\n",
       "      <td>5</td>\n",
       "      <td>0</td>\n",
       "      <td>2024-05-21 16:56:29</td>\n",
       "    </tr>\n",
       "    <tr>\n",
       "      <th>1085</th>\n",
       "      <td>NaN</td>\n",
       "      <td>2</td>\n",
       "      <td>0</td>\n",
       "      <td>2024-05-19 13:52:42</td>\n",
       "    </tr>\n",
       "  </tbody>\n",
       "</table>\n",
       "</div>"
      ],
      "text/plain": [
       "     content  score  thumbsUpCount                   at\n",
       "734      NaN      5              0  2024-05-21 16:56:29\n",
       "1085     NaN      2              0  2024-05-19 13:52:42"
      ]
     },
     "execution_count": 15,
     "metadata": {},
     "output_type": "execute_result"
    }
   ],
   "source": [
    "# now, we have to have  these missing reviews. there are two ways to handle this: either remove these two rows as it won't affect our dataset much or provide maunal review in these two places\n",
    "df[df['content'].isnull()]"
   ]
  },
  {
   "cell_type": "code",
   "execution_count": 16,
   "id": "19be67d2",
   "metadata": {
    "execution": {
     "iopub.execute_input": "2024-05-27T09:26:20.577135Z",
     "iopub.status.busy": "2024-05-27T09:26:20.576867Z",
     "iopub.status.idle": "2024-05-27T09:26:20.600309Z",
     "shell.execute_reply": "2024-05-27T09:26:20.599605Z"
    },
    "papermill": {
     "duration": 0.047085,
     "end_time": "2024-05-27T09:26:20.602448",
     "exception": false,
     "start_time": "2024-05-27T09:26:20.555363",
     "status": "completed"
    },
    "tags": []
   },
   "outputs": [],
   "source": [
    "# let's remove these reviews for simplicity sake \n",
    "df = df[~df['content'].isnull()]"
   ]
  },
  {
   "cell_type": "code",
   "execution_count": 17,
   "id": "bc85681b",
   "metadata": {
    "execution": {
     "iopub.execute_input": "2024-05-27T09:26:20.646089Z",
     "iopub.status.busy": "2024-05-27T09:26:20.645571Z",
     "iopub.status.idle": "2024-05-27T09:26:20.682831Z",
     "shell.execute_reply": "2024-05-27T09:26:20.681676Z"
    },
    "papermill": {
     "duration": 0.060949,
     "end_time": "2024-05-27T09:26:20.684782",
     "exception": false,
     "start_time": "2024-05-27T09:26:20.623833",
     "status": "completed"
    },
    "tags": []
   },
   "outputs": [
    {
     "name": "stdout",
     "output_type": "stream",
     "text": [
      "<class 'pandas.core.frame.DataFrame'>\n",
      "Index: 110416 entries, 0 to 110417\n",
      "Data columns (total 4 columns):\n",
      " #   Column         Non-Null Count   Dtype \n",
      "---  ------         --------------   ----- \n",
      " 0   content        110416 non-null  object\n",
      " 1   score          110416 non-null  int64 \n",
      " 2   thumbsUpCount  110416 non-null  int64 \n",
      " 3   at             110416 non-null  object\n",
      "dtypes: int64(2), object(2)\n",
      "memory usage: 4.2+ MB\n"
     ]
    }
   ],
   "source": [
    "df.info()"
   ]
  },
  {
   "cell_type": "code",
   "execution_count": 18,
   "id": "7c9b903a",
   "metadata": {
    "execution": {
     "iopub.execute_input": "2024-05-27T09:26:20.728900Z",
     "iopub.status.busy": "2024-05-27T09:26:20.728624Z",
     "iopub.status.idle": "2024-05-27T09:26:20.738880Z",
     "shell.execute_reply": "2024-05-27T09:26:20.738145Z"
    },
    "papermill": {
     "duration": 0.034698,
     "end_time": "2024-05-27T09:26:20.740846",
     "exception": false,
     "start_time": "2024-05-27T09:26:20.706148",
     "status": "completed"
    },
    "tags": []
   },
   "outputs": [],
   "source": [
    "# reducing the data types wherever applicable.\n",
    "df = df.astype({\n",
    "    'score':'int16',\n",
    "    'thumbsUpCount':'int16'\n",
    "})"
   ]
  },
  {
   "cell_type": "code",
   "execution_count": 19,
   "id": "dbc7256c",
   "metadata": {
    "execution": {
     "iopub.execute_input": "2024-05-27T09:26:20.784436Z",
     "iopub.status.busy": "2024-05-27T09:26:20.784139Z",
     "iopub.status.idle": "2024-05-27T09:26:20.831309Z",
     "shell.execute_reply": "2024-05-27T09:26:20.830628Z"
    },
    "papermill": {
     "duration": 0.070708,
     "end_time": "2024-05-27T09:26:20.833128",
     "exception": false,
     "start_time": "2024-05-27T09:26:20.762420",
     "status": "completed"
    },
    "tags": []
   },
   "outputs": [],
   "source": [
    "df['at'] = pd.to_datetime(df['at']) "
   ]
  },
  {
   "cell_type": "code",
   "execution_count": 20,
   "id": "e6167fcf",
   "metadata": {
    "execution": {
     "iopub.execute_input": "2024-05-27T09:26:20.877808Z",
     "iopub.status.busy": "2024-05-27T09:26:20.877537Z",
     "iopub.status.idle": "2024-05-27T09:26:21.639392Z",
     "shell.execute_reply": "2024-05-27T09:26:21.638642Z"
    },
    "papermill": {
     "duration": 0.786015,
     "end_time": "2024-05-27T09:26:21.641331",
     "exception": false,
     "start_time": "2024-05-27T09:26:20.855316",
     "status": "completed"
    },
    "tags": []
   },
   "outputs": [],
   "source": [
    "df['at'] = df['at'].dt.strftime('%Y')"
   ]
  },
  {
   "cell_type": "code",
   "execution_count": 21,
   "id": "7e86cd09",
   "metadata": {
    "execution": {
     "iopub.execute_input": "2024-05-27T09:26:21.686433Z",
     "iopub.status.busy": "2024-05-27T09:26:21.686100Z",
     "iopub.status.idle": "2024-05-27T09:26:21.723562Z",
     "shell.execute_reply": "2024-05-27T09:26:21.722369Z"
    },
    "papermill": {
     "duration": 0.062297,
     "end_time": "2024-05-27T09:26:21.725434",
     "exception": false,
     "start_time": "2024-05-27T09:26:21.663137",
     "status": "completed"
    },
    "tags": []
   },
   "outputs": [
    {
     "name": "stdout",
     "output_type": "stream",
     "text": [
      "<class 'pandas.core.frame.DataFrame'>\n",
      "Index: 110416 entries, 0 to 110417\n",
      "Data columns (total 4 columns):\n",
      " #   Column         Non-Null Count   Dtype \n",
      "---  ------         --------------   ----- \n",
      " 0   content        110416 non-null  object\n",
      " 1   score          110416 non-null  int16 \n",
      " 2   thumbsUpCount  110416 non-null  int16 \n",
      " 3   at             110416 non-null  object\n",
      "dtypes: int16(2), object(2)\n",
      "memory usage: 2.9+ MB\n"
     ]
    }
   ],
   "source": [
    "# memoray optimised by 1.44x times\n",
    "df.info()"
   ]
  },
  {
   "cell_type": "code",
   "execution_count": 22,
   "id": "7e999e2f",
   "metadata": {
    "execution": {
     "iopub.execute_input": "2024-05-27T09:26:21.768884Z",
     "iopub.status.busy": "2024-05-27T09:26:21.768550Z",
     "iopub.status.idle": "2024-05-27T09:26:21.773317Z",
     "shell.execute_reply": "2024-05-27T09:26:21.772465Z"
    },
    "papermill": {
     "duration": 0.028745,
     "end_time": "2024-05-27T09:26:21.775240",
     "exception": false,
     "start_time": "2024-05-27T09:26:21.746495",
     "status": "completed"
    },
    "tags": []
   },
   "outputs": [],
   "source": [
    "# now let's rename the features to names which are easier to work with. (Personal Opinion)\n",
    "df.rename(columns={\n",
    "    'content':'Review',\n",
    "    'score':'Rating',\n",
    "    'thumbsUpCount':'Likes',\n",
    "    'at':'Year'\n",
    "}, inplace=True)"
   ]
  },
  {
   "cell_type": "code",
   "execution_count": 23,
   "id": "8033000d",
   "metadata": {
    "execution": {
     "iopub.execute_input": "2024-05-27T09:26:21.818491Z",
     "iopub.status.busy": "2024-05-27T09:26:21.818190Z",
     "iopub.status.idle": "2024-05-27T09:26:21.830635Z",
     "shell.execute_reply": "2024-05-27T09:26:21.829779Z"
    },
    "papermill": {
     "duration": 0.036258,
     "end_time": "2024-05-27T09:26:21.832510",
     "exception": false,
     "start_time": "2024-05-27T09:26:21.796252",
     "status": "completed"
    },
    "tags": []
   },
   "outputs": [
    {
     "data": {
      "text/html": [
       "<div>\n",
       "<style scoped>\n",
       "    .dataframe tbody tr th:only-of-type {\n",
       "        vertical-align: middle;\n",
       "    }\n",
       "\n",
       "    .dataframe tbody tr th {\n",
       "        vertical-align: top;\n",
       "    }\n",
       "\n",
       "    .dataframe thead th {\n",
       "        text-align: right;\n",
       "    }\n",
       "</style>\n",
       "<table border=\"1\" class=\"dataframe\">\n",
       "  <thead>\n",
       "    <tr style=\"text-align: right;\">\n",
       "      <th></th>\n",
       "      <th>Review</th>\n",
       "      <th>Rating</th>\n",
       "      <th>Likes</th>\n",
       "      <th>Year</th>\n",
       "    </tr>\n",
       "  </thead>\n",
       "  <tbody>\n",
       "    <tr>\n",
       "      <th>109086</th>\n",
       "      <td>Please i need assistance because i don't under...</td>\n",
       "      <td>1</td>\n",
       "      <td>0</td>\n",
       "      <td>2022</td>\n",
       "    </tr>\n",
       "    <tr>\n",
       "      <th>101629</th>\n",
       "      <td>Netfiix has many varieties of shows and movies...</td>\n",
       "      <td>5</td>\n",
       "      <td>0</td>\n",
       "      <td>2020</td>\n",
       "    </tr>\n",
       "    <tr>\n",
       "      <th>39646</th>\n",
       "      <td>Terrible UI! It's become impossible to find st...</td>\n",
       "      <td>1</td>\n",
       "      <td>0</td>\n",
       "      <td>2022</td>\n",
       "    </tr>\n",
       "  </tbody>\n",
       "</table>\n",
       "</div>"
      ],
      "text/plain": [
       "                                                   Review  Rating  Likes  Year\n",
       "109086  Please i need assistance because i don't under...       1      0  2022\n",
       "101629  Netfiix has many varieties of shows and movies...       5      0  2020\n",
       "39646   Terrible UI! It's become impossible to find st...       1      0  2022"
      ]
     },
     "execution_count": 23,
     "metadata": {},
     "output_type": "execute_result"
    }
   ],
   "source": [
    "df.sample(3)"
   ]
  },
  {
   "cell_type": "code",
   "execution_count": 24,
   "id": "290371ea",
   "metadata": {
    "execution": {
     "iopub.execute_input": "2024-05-27T09:26:21.878899Z",
     "iopub.status.busy": "2024-05-27T09:26:21.878150Z",
     "iopub.status.idle": "2024-05-27T09:26:21.883039Z",
     "shell.execute_reply": "2024-05-27T09:26:21.882220Z"
    },
    "papermill": {
     "duration": 0.028913,
     "end_time": "2024-05-27T09:26:21.884811",
     "exception": false,
     "start_time": "2024-05-27T09:26:21.855898",
     "status": "completed"
    },
    "tags": []
   },
   "outputs": [],
   "source": [
    "# now let's add the target feature to classify the emotion of the review \n",
    "# let's consider this criteria for each review based on the `Rating`:\n",
    "# if rating>=4 -> person is happy & satisfied (0)\n",
    "# if rating is 3 -> person is satisifed and has neutral state (1)\n",
    "# else person is dissatisfied and sad (2)\n",
    "\n",
    "# create a function to take care of the above case\n",
    "def target_labeler(rating):\n",
    "    if(rating>=4):\n",
    "        return 0\n",
    "    elif(rating==3):\n",
    "        return 1\n",
    "    return 2"
   ]
  },
  {
   "cell_type": "code",
   "execution_count": 25,
   "id": "71e4d6da",
   "metadata": {
    "execution": {
     "iopub.execute_input": "2024-05-27T09:26:21.928285Z",
     "iopub.status.busy": "2024-05-27T09:26:21.928011Z",
     "iopub.status.idle": "2024-05-27T09:26:22.009029Z",
     "shell.execute_reply": "2024-05-27T09:26:22.008150Z"
    },
    "papermill": {
     "duration": 0.10497,
     "end_time": "2024-05-27T09:26:22.011014",
     "exception": false,
     "start_time": "2024-05-27T09:26:21.906044",
     "status": "completed"
    },
    "tags": []
   },
   "outputs": [],
   "source": [
    "# apply the function & store the emotion\n",
    "df['Emotion'] = df['Rating'].apply(target_labeler)"
   ]
  },
  {
   "cell_type": "code",
   "execution_count": 26,
   "id": "9289557b",
   "metadata": {
    "execution": {
     "iopub.execute_input": "2024-05-27T09:26:22.055902Z",
     "iopub.status.busy": "2024-05-27T09:26:22.055596Z",
     "iopub.status.idle": "2024-05-27T09:26:22.069234Z",
     "shell.execute_reply": "2024-05-27T09:26:22.068398Z"
    },
    "papermill": {
     "duration": 0.038554,
     "end_time": "2024-05-27T09:26:22.071158",
     "exception": false,
     "start_time": "2024-05-27T09:26:22.032604",
     "status": "completed"
    },
    "tags": []
   },
   "outputs": [
    {
     "data": {
      "text/html": [
       "<div>\n",
       "<style scoped>\n",
       "    .dataframe tbody tr th:only-of-type {\n",
       "        vertical-align: middle;\n",
       "    }\n",
       "\n",
       "    .dataframe tbody tr th {\n",
       "        vertical-align: top;\n",
       "    }\n",
       "\n",
       "    .dataframe thead th {\n",
       "        text-align: right;\n",
       "    }\n",
       "</style>\n",
       "<table border=\"1\" class=\"dataframe\">\n",
       "  <thead>\n",
       "    <tr style=\"text-align: right;\">\n",
       "      <th></th>\n",
       "      <th>Review</th>\n",
       "      <th>Rating</th>\n",
       "      <th>Likes</th>\n",
       "      <th>Year</th>\n",
       "      <th>Emotion</th>\n",
       "    </tr>\n",
       "  </thead>\n",
       "  <tbody>\n",
       "    <tr>\n",
       "      <th>29238</th>\n",
       "      <td>When the devs don't mess it up with a sloppy u...</td>\n",
       "      <td>5</td>\n",
       "      <td>19</td>\n",
       "      <td>2021</td>\n",
       "      <td>0</td>\n",
       "    </tr>\n",
       "    <tr>\n",
       "      <th>100392</th>\n",
       "      <td>so annoying sometimes but at other times it's ...</td>\n",
       "      <td>5</td>\n",
       "      <td>0</td>\n",
       "      <td>2019</td>\n",
       "      <td>0</td>\n",
       "    </tr>\n",
       "    <tr>\n",
       "      <th>76609</th>\n",
       "      <td>Doesn't load all the time, no matter how stron...</td>\n",
       "      <td>3</td>\n",
       "      <td>0</td>\n",
       "      <td>2020</td>\n",
       "      <td>1</td>\n",
       "    </tr>\n",
       "    <tr>\n",
       "      <th>95900</th>\n",
       "      <td>Simply superb, just a bit over priced</td>\n",
       "      <td>5</td>\n",
       "      <td>0</td>\n",
       "      <td>2020</td>\n",
       "      <td>0</td>\n",
       "    </tr>\n",
       "    <tr>\n",
       "      <th>55750</th>\n",
       "      <td>please upload all dramas and movies in Hindi d...</td>\n",
       "      <td>2</td>\n",
       "      <td>0</td>\n",
       "      <td>2024</td>\n",
       "      <td>2</td>\n",
       "    </tr>\n",
       "  </tbody>\n",
       "</table>\n",
       "</div>"
      ],
      "text/plain": [
       "                                                   Review  Rating  Likes  \\\n",
       "29238   When the devs don't mess it up with a sloppy u...       5     19   \n",
       "100392  so annoying sometimes but at other times it's ...       5      0   \n",
       "76609   Doesn't load all the time, no matter how stron...       3      0   \n",
       "95900               Simply superb, just a bit over priced       5      0   \n",
       "55750   please upload all dramas and movies in Hindi d...       2      0   \n",
       "\n",
       "        Year  Emotion  \n",
       "29238   2021        0  \n",
       "100392  2019        0  \n",
       "76609   2020        1  \n",
       "95900   2020        0  \n",
       "55750   2024        2  "
      ]
     },
     "execution_count": 26,
     "metadata": {},
     "output_type": "execute_result"
    }
   ],
   "source": [
    "df.sample(5)"
   ]
  },
  {
   "cell_type": "raw",
   "id": "b054b8a8",
   "metadata": {
    "papermill": {
     "duration": 0.021298,
     "end_time": "2024-05-27T09:26:22.113881",
     "exception": false,
     "start_time": "2024-05-27T09:26:22.092583",
     "status": "completed"
    },
    "tags": []
   },
   "source": [
    "# note: \n",
    "1. number of words in each review\n"
   ]
  },
  {
   "cell_type": "markdown",
   "id": "b61114ea",
   "metadata": {
    "papermill": {
     "duration": 0.021409,
     "end_time": "2024-05-27T09:26:22.156718",
     "exception": false,
     "start_time": "2024-05-27T09:26:22.135309",
     "status": "completed"
    },
    "tags": []
   },
   "source": [
    "# Feature Engineering\n"
   ]
  },
  {
   "cell_type": "code",
   "execution_count": 27,
   "id": "68128c87",
   "metadata": {
    "execution": {
     "iopub.execute_input": "2024-05-27T09:26:22.200776Z",
     "iopub.status.busy": "2024-05-27T09:26:22.200430Z",
     "iopub.status.idle": "2024-05-27T09:26:22.227783Z",
     "shell.execute_reply": "2024-05-27T09:26:22.226929Z"
    },
    "papermill": {
     "duration": 0.05173,
     "end_time": "2024-05-27T09:26:22.229784",
     "exception": false,
     "start_time": "2024-05-27T09:26:22.178054",
     "status": "completed"
    },
    "tags": []
   },
   "outputs": [
    {
     "data": {
      "text/plain": [
       "Year\n",
       "2020    28569\n",
       "2021    17737\n",
       "2019    16879\n",
       "2022    15125\n",
       "2024    14451\n",
       "2023    12853\n",
       "2018     4802\n",
       "Name: count, dtype: int64"
      ]
     },
     "execution_count": 27,
     "metadata": {},
     "output_type": "execute_result"
    }
   ],
   "source": [
    "df['Year'].value_counts()"
   ]
  },
  {
   "cell_type": "markdown",
   "id": "7f4f1d22",
   "metadata": {
    "papermill": {
     "duration": 0.021638,
     "end_time": "2024-05-27T09:26:22.273413",
     "exception": false,
     "start_time": "2024-05-27T09:26:22.251775",
     "status": "completed"
    },
    "tags": []
   },
   "source": [
    "### `Approach`"
   ]
  },
  {
   "cell_type": "markdown",
   "id": "7d2bede0",
   "metadata": {
    "papermill": {
     "duration": 0.021223,
     "end_time": "2024-05-27T09:26:22.316375",
     "exception": false,
     "start_time": "2024-05-27T09:26:22.295152",
     "status": "completed"
    },
    "tags": []
   },
   "source": [
    "we can features like this:\n",
    "- let's create one feature which represents the number of words for each review. this would help the model understand the relationship better.\n",
    "- similarly, we can also create another feature which represents the number of characters in each review\n"
   ]
  },
  {
   "cell_type": "markdown",
   "id": "b64c6ac5",
   "metadata": {
    "papermill": {
     "duration": 0.021414,
     "end_time": "2024-05-27T09:26:22.359434",
     "exception": false,
     "start_time": "2024-05-27T09:26:22.338020",
     "status": "completed"
    },
    "tags": []
   },
   "source": [
    "### `Text Preprocessing`"
   ]
  },
  {
   "cell_type": "code",
   "execution_count": 28,
   "id": "cbd511d6",
   "metadata": {
    "execution": {
     "iopub.execute_input": "2024-05-27T09:26:22.404123Z",
     "iopub.status.busy": "2024-05-27T09:26:22.403336Z",
     "iopub.status.idle": "2024-05-27T09:26:22.408596Z",
     "shell.execute_reply": "2024-05-27T09:26:22.407719Z"
    },
    "papermill": {
     "duration": 0.029549,
     "end_time": "2024-05-27T09:26:22.410458",
     "exception": false,
     "start_time": "2024-05-27T09:26:22.380909",
     "status": "completed"
    },
    "tags": []
   },
   "outputs": [],
   "source": [
    "def remove_emoji(string):\n",
    "    emoji_pattern = re.compile(\"[\"\n",
    "                           u\"\\U0001F600-\\U0001F64F\" # emoticons\n",
    "                           u\"\\U0001F300-\\U0001F5FF\" # symbols & pictographs\n",
    "                           u\"\\U0001F680-\\U0001F6FF\" # transport & map symbols\n",
    "                           u\"\\U0001F1E0-\\U0001F1FF\" # flags (iOS)\n",
    "                           u\"\\U00002702-\\U000027B0\"\n",
    "                           u\"\\U000024C2-\\U0001F251\"\n",
    "                           \"]+\", flags=re.UNICODE)\n",
    "    return emoji_pattern.sub(r'', string)"
   ]
  },
  {
   "cell_type": "code",
   "execution_count": 29,
   "id": "7a8268fd",
   "metadata": {
    "execution": {
     "iopub.execute_input": "2024-05-27T09:26:22.455462Z",
     "iopub.status.busy": "2024-05-27T09:26:22.454748Z",
     "iopub.status.idle": "2024-05-27T09:26:22.462031Z",
     "shell.execute_reply": "2024-05-27T09:26:22.461245Z"
    },
    "papermill": {
     "duration": 0.031875,
     "end_time": "2024-05-27T09:26:22.463937",
     "exception": false,
     "start_time": "2024-05-27T09:26:22.432062",
     "status": "completed"
    },
    "tags": []
   },
   "outputs": [],
   "source": [
    "def preprocess_text(text):\n",
    "    #remove html tags\n",
    "    text = re.compile(r'<[^>]+>').sub('', text)\n",
    "    # convert to lower case \n",
    "    text = text.lower()\n",
    "    # expand contractions\n",
    "    text = contractions.fix(text)\n",
    "    # remove punctuations \n",
    "    text = text.translate(str.maketrans('','', string.punctuation))\n",
    "    # remove numbers \n",
    "    text = ''.join([i for i in text if not i.isdigit()])\n",
    "    # remove stop words\n",
    "    text = ' '.join([word for word in text.split() if word not in (stopwords.words('english'))])\n",
    "    # perform stemming\n",
    "    text = text.split()\n",
    "    words = []\n",
    "    for word in text:\n",
    "        words.append(ps.stem(word))\n",
    "    text = ' '.join(words)\n",
    "    # remove emoji\n",
    "    text = remove_emoji(text)\n",
    "    # remove extra spaces\n",
    "    text = ' '.join(text.split())\n",
    "    return text"
   ]
  },
  {
   "cell_type": "code",
   "execution_count": 30,
   "id": "17f032b7",
   "metadata": {
    "execution": {
     "iopub.execute_input": "2024-05-27T09:26:22.508169Z",
     "iopub.status.busy": "2024-05-27T09:26:22.507910Z",
     "iopub.status.idle": "2024-05-27T09:34:02.253516Z",
     "shell.execute_reply": "2024-05-27T09:34:02.252459Z"
    },
    "papermill": {
     "duration": 459.791466,
     "end_time": "2024-05-27T09:34:02.276896",
     "exception": false,
     "start_time": "2024-05-27T09:26:22.485430",
     "status": "completed"
    },
    "tags": []
   },
   "outputs": [
    {
     "name": "stdout",
     "output_type": "stream",
     "text": [
      "459.7407474517822\n"
     ]
    }
   ],
   "source": [
    "start_time = time.time()\n",
    "df['Review'] = df['Review'].apply(preprocess_text)\n",
    "print(time.time()-start_time)"
   ]
  },
  {
   "cell_type": "code",
   "execution_count": 31,
   "id": "ba79e837",
   "metadata": {
    "execution": {
     "iopub.execute_input": "2024-05-27T09:34:02.321364Z",
     "iopub.status.busy": "2024-05-27T09:34:02.321049Z",
     "iopub.status.idle": "2024-05-27T09:34:02.325063Z",
     "shell.execute_reply": "2024-05-27T09:34:02.324195Z"
    },
    "papermill": {
     "duration": 0.028592,
     "end_time": "2024-05-27T09:34:02.326983",
     "exception": false,
     "start_time": "2024-05-27T09:34:02.298391",
     "status": "completed"
    },
    "tags": []
   },
   "outputs": [],
   "source": [
    "# now use these processed text for each review to create these new features"
   ]
  },
  {
   "cell_type": "code",
   "execution_count": 32,
   "id": "8c1ef645",
   "metadata": {
    "execution": {
     "iopub.execute_input": "2024-05-27T09:34:02.373926Z",
     "iopub.status.busy": "2024-05-27T09:34:02.373356Z",
     "iopub.status.idle": "2024-05-27T09:34:02.378885Z",
     "shell.execute_reply": "2024-05-27T09:34:02.378033Z"
    },
    "papermill": {
     "duration": 0.031215,
     "end_time": "2024-05-27T09:34:02.380954",
     "exception": false,
     "start_time": "2024-05-27T09:34:02.349739",
     "status": "completed"
    },
    "tags": []
   },
   "outputs": [],
   "source": [
    "w = []\n",
    "c = []\n",
    "def create_new_features(text):\n",
    "    words = text.split()\n",
    "    char_len = 0\n",
    "    for word in words:\n",
    "        char_len += len(word)\n",
    "    w.append(len(words))\n",
    "    c.append(char_len)\n",
    "    return (len(words), char_len)"
   ]
  },
  {
   "cell_type": "code",
   "execution_count": 33,
   "id": "da0d0236",
   "metadata": {
    "execution": {
     "iopub.execute_input": "2024-05-27T09:34:02.427281Z",
     "iopub.status.busy": "2024-05-27T09:34:02.427035Z",
     "iopub.status.idle": "2024-05-27T09:34:02.821394Z",
     "shell.execute_reply": "2024-05-27T09:34:02.820506Z"
    },
    "papermill": {
     "duration": 0.419927,
     "end_time": "2024-05-27T09:34:02.823661",
     "exception": false,
     "start_time": "2024-05-27T09:34:02.403734",
     "status": "completed"
    },
    "tags": []
   },
   "outputs": [
    {
     "data": {
      "text/plain": [
       "0         (20, 91)\n",
       "1           (1, 5)\n",
       "2          (6, 33)\n",
       "3           (2, 9)\n",
       "4          (3, 16)\n",
       "            ...   \n",
       "110413     (6, 29)\n",
       "110414     (6, 28)\n",
       "110415     (4, 20)\n",
       "110416     (9, 43)\n",
       "110417     (7, 30)\n",
       "Name: Review, Length: 110416, dtype: object"
      ]
     },
     "execution_count": 33,
     "metadata": {},
     "output_type": "execute_result"
    }
   ],
   "source": [
    "df['Review'].apply(create_new_features)"
   ]
  },
  {
   "cell_type": "code",
   "execution_count": 34,
   "id": "a62ef802",
   "metadata": {
    "execution": {
     "iopub.execute_input": "2024-05-27T09:34:02.879314Z",
     "iopub.status.busy": "2024-05-27T09:34:02.878931Z",
     "iopub.status.idle": "2024-05-27T09:34:02.979342Z",
     "shell.execute_reply": "2024-05-27T09:34:02.978336Z"
    },
    "papermill": {
     "duration": 0.131602,
     "end_time": "2024-05-27T09:34:02.981565",
     "exception": false,
     "start_time": "2024-05-27T09:34:02.849963",
     "status": "completed"
    },
    "tags": []
   },
   "outputs": [],
   "source": [
    "df['Words'] = w\n",
    "df['Characters'] = c"
   ]
  },
  {
   "cell_type": "code",
   "execution_count": 35,
   "id": "71433b22",
   "metadata": {
    "execution": {
     "iopub.execute_input": "2024-05-27T09:34:03.028176Z",
     "iopub.status.busy": "2024-05-27T09:34:03.027883Z",
     "iopub.status.idle": "2024-05-27T09:34:03.032488Z",
     "shell.execute_reply": "2024-05-27T09:34:03.031761Z"
    },
    "papermill": {
     "duration": 0.029361,
     "end_time": "2024-05-27T09:34:03.034312",
     "exception": false,
     "start_time": "2024-05-27T09:34:03.004951",
     "status": "completed"
    },
    "tags": []
   },
   "outputs": [],
   "source": [
    "df['Characters'],df['Emotion'] = df['Emotion'],df['Characters']"
   ]
  },
  {
   "cell_type": "code",
   "execution_count": 36,
   "id": "c171740e",
   "metadata": {
    "execution": {
     "iopub.execute_input": "2024-05-27T09:34:03.080136Z",
     "iopub.status.busy": "2024-05-27T09:34:03.079874Z",
     "iopub.status.idle": "2024-05-27T09:34:03.084238Z",
     "shell.execute_reply": "2024-05-27T09:34:03.083375Z"
    },
    "papermill": {
     "duration": 0.029111,
     "end_time": "2024-05-27T09:34:03.085976",
     "exception": false,
     "start_time": "2024-05-27T09:34:03.056865",
     "status": "completed"
    },
    "tags": []
   },
   "outputs": [],
   "source": [
    "df.rename(columns={\n",
    "    'Characters':'Emotion',\n",
    "    'Emotion':'Character'\n",
    "}, inplace=True)"
   ]
  },
  {
   "cell_type": "code",
   "execution_count": 37,
   "id": "b207f514",
   "metadata": {
    "execution": {
     "iopub.execute_input": "2024-05-27T09:34:03.132282Z",
     "iopub.status.busy": "2024-05-27T09:34:03.132018Z",
     "iopub.status.idle": "2024-05-27T09:34:03.144145Z",
     "shell.execute_reply": "2024-05-27T09:34:03.143464Z"
    },
    "papermill": {
     "duration": 0.037477,
     "end_time": "2024-05-27T09:34:03.146042",
     "exception": false,
     "start_time": "2024-05-27T09:34:03.108565",
     "status": "completed"
    },
    "tags": []
   },
   "outputs": [],
   "source": [
    "df.drop(columns=['Rating'], inplace=True)"
   ]
  },
  {
   "cell_type": "markdown",
   "id": "0766e374",
   "metadata": {
    "papermill": {
     "duration": 0.021971,
     "end_time": "2024-05-27T09:34:03.190781",
     "exception": false,
     "start_time": "2024-05-27T09:34:03.168810",
     "status": "completed"
    },
    "tags": []
   },
   "source": [
    "#### `Analysis of Year Feature`"
   ]
  },
  {
   "cell_type": "code",
   "execution_count": 38,
   "id": "53c9b97b",
   "metadata": {
    "execution": {
     "iopub.execute_input": "2024-05-27T09:34:03.236896Z",
     "iopub.status.busy": "2024-05-27T09:34:03.236625Z",
     "iopub.status.idle": "2024-05-27T09:34:03.263446Z",
     "shell.execute_reply": "2024-05-27T09:34:03.262532Z"
    },
    "papermill": {
     "duration": 0.052324,
     "end_time": "2024-05-27T09:34:03.265416",
     "exception": false,
     "start_time": "2024-05-27T09:34:03.213092",
     "status": "completed"
    },
    "tags": []
   },
   "outputs": [
    {
     "data": {
      "text/plain": [
       "Year\n",
       "2018     4802\n",
       "2019    16879\n",
       "2020    28569\n",
       "2021    17737\n",
       "2022    15125\n",
       "2023    12853\n",
       "2024    14451\n",
       "Name: count, dtype: int64"
      ]
     },
     "execution_count": 38,
     "metadata": {},
     "output_type": "execute_result"
    }
   ],
   "source": [
    "# now let's analyse year feature to understand year by year response of users for Netflix\n",
    "df['Year'].value_counts().sort_index()"
   ]
  },
  {
   "cell_type": "markdown",
   "id": "c6556a9e",
   "metadata": {
    "papermill": {
     "duration": 0.022468,
     "end_time": "2024-05-27T09:34:03.311937",
     "exception": false,
     "start_time": "2024-05-27T09:34:03.289469",
     "status": "completed"
    },
    "tags": []
   },
   "source": [
    "- there are total 7 years of reviews from 2018 to 2024"
   ]
  },
  {
   "cell_type": "code",
   "execution_count": 39,
   "id": "8d188455",
   "metadata": {
    "execution": {
     "iopub.execute_input": "2024-05-27T09:34:03.357555Z",
     "iopub.status.busy": "2024-05-27T09:34:03.357211Z",
     "iopub.status.idle": "2024-05-27T09:34:04.079094Z",
     "shell.execute_reply": "2024-05-27T09:34:04.078333Z"
    },
    "papermill": {
     "duration": 0.747181,
     "end_time": "2024-05-27T09:34:04.081501",
     "exception": false,
     "start_time": "2024-05-27T09:34:03.334320",
     "status": "completed"
    },
    "tags": []
   },
   "outputs": [
    {
     "data": {
      "image/png": "[encoded data removed]",
      "text/plain": [
       "<Figure size 1500x1000 with 1 Axes>"
      ]
     },
     "metadata": {},
     "output_type": "display_data"
    }
   ],
   "source": [
    "plt.figure(figsize=(15,10))\n",
    "temp_df = df[['Year','Emotion']].sort_values(by='Year')\n",
    "plot = sns.countplot(data=temp_df, x='Year', hue='Emotion', width=0.7, palette=['pink', 'yellow', 'cyan'])\n",
    "plot.legend(title='Year on Year Analysis', labels=['Happy', 'Neutral', 'Sad'])\n",
    "plt.title('Year on Year Report')\n",
    "plt.show()"
   ]
  },
  {
   "cell_type": "markdown",
   "id": "bb210795",
   "metadata": {
    "papermill": {
     "duration": 0.022769,
     "end_time": "2024-05-27T09:34:04.127579",
     "exception": false,
     "start_time": "2024-05-27T09:34:04.104810",
     "status": "completed"
    },
    "tags": []
   },
   "source": [
    "##### `Insights`:\n",
    "- From year 2018-2020, there have been more positive reviews than negative reviews and from year 2021-2024 the negative reviews have been more than positive, indicating decline in the trust with Netflix.\n",
    "- Negative reviews have always been atleast nearly around 75% or greater than positive reviews.\n",
    "- Year 2020 marked the peak for the amount of reviews made and number of positive reviews. This may due to increase in number of subcribers due to Covid-19."
   ]
  },
  {
   "cell_type": "markdown",
   "id": "4db186cc",
   "metadata": {
    "papermill": {
     "duration": 0.022824,
     "end_time": "2024-05-27T09:34:04.173267",
     "exception": false,
     "start_time": "2024-05-27T09:34:04.150443",
     "status": "completed"
    },
    "tags": []
   },
   "source": [
    "Note: now what we can do is categorise the Year feature. for year in range [2018,2020], provide it a label as 0 or else 1 this is due to the first insight that we talked above. This feature maybe helpful to the model to understand the relationship between year and the emotion of review."
   ]
  },
  {
   "cell_type": "markdown",
   "id": "8a12f2a2",
   "metadata": {
    "papermill": {
     "duration": 0.022697,
     "end_time": "2024-05-27T09:34:04.219033",
     "exception": false,
     "start_time": "2024-05-27T09:34:04.196336",
     "status": "completed"
    },
    "tags": []
   },
   "source": [
    "#### `Categorising Year Feature`"
   ]
  },
  {
   "cell_type": "code",
   "execution_count": 40,
   "id": "7f0a3787",
   "metadata": {
    "execution": {
     "iopub.execute_input": "2024-05-27T09:34:04.267853Z",
     "iopub.status.busy": "2024-05-27T09:34:04.267188Z",
     "iopub.status.idle": "2024-05-27T09:34:04.364213Z",
     "shell.execute_reply": "2024-05-27T09:34:04.363525Z"
    },
    "papermill": {
     "duration": 0.122834,
     "end_time": "2024-05-27T09:34:04.366040",
     "exception": false,
     "start_time": "2024-05-27T09:34:04.243206",
     "status": "completed"
    },
    "tags": []
   },
   "outputs": [],
   "source": [
    "def categorise_year_feature(year):\n",
    "    year = int(year)\n",
    "    if year>=2018 and year<=2020:\n",
    "        return 0\n",
    "    return 1\n",
    "\n",
    "df['Year'] = df['Year'].apply(categorise_year_feature)"
   ]
  },
  {
   "cell_type": "code",
   "execution_count": 41,
   "id": "dfbfbf96",
   "metadata": {
    "execution": {
     "iopub.execute_input": "2024-05-27T09:34:04.413528Z",
     "iopub.status.busy": "2024-05-27T09:34:04.413243Z",
     "iopub.status.idle": "2024-05-27T09:34:04.426310Z",
     "shell.execute_reply": "2024-05-27T09:34:04.425464Z"
    },
    "papermill": {
     "duration": 0.038761,
     "end_time": "2024-05-27T09:34:04.428319",
     "exception": false,
     "start_time": "2024-05-27T09:34:04.389558",
     "status": "completed"
    },
    "tags": []
   },
   "outputs": [
    {
     "data": {
      "text/html": [
       "<div>\n",
       "<style scoped>\n",
       "    .dataframe tbody tr th:only-of-type {\n",
       "        vertical-align: middle;\n",
       "    }\n",
       "\n",
       "    .dataframe tbody tr th {\n",
       "        vertical-align: top;\n",
       "    }\n",
       "\n",
       "    .dataframe thead th {\n",
       "        text-align: right;\n",
       "    }\n",
       "</style>\n",
       "<table border=\"1\" class=\"dataframe\">\n",
       "  <thead>\n",
       "    <tr style=\"text-align: right;\">\n",
       "      <th></th>\n",
       "      <th>Review</th>\n",
       "      <th>Likes</th>\n",
       "      <th>Year</th>\n",
       "      <th>Character</th>\n",
       "      <th>Words</th>\n",
       "      <th>Emotion</th>\n",
       "    </tr>\n",
       "  </thead>\n",
       "  <tbody>\n",
       "    <tr>\n",
       "      <th>35953</th>\n",
       "      <td>netflix great new rule pay two account kid wat...</td>\n",
       "      <td>2</td>\n",
       "      <td>1</td>\n",
       "      <td>92</td>\n",
       "      <td>20</td>\n",
       "      <td>2</td>\n",
       "    </tr>\n",
       "    <tr>\n",
       "      <th>86259</th>\n",
       "      <td>love watch movi mani differ type movi show one...</td>\n",
       "      <td>0</td>\n",
       "      <td>1</td>\n",
       "      <td>54</td>\n",
       "      <td>12</td>\n",
       "      <td>0</td>\n",
       "    </tr>\n",
       "    <tr>\n",
       "      <th>72336</th>\n",
       "      <td>amaz low price also use screen new show</td>\n",
       "      <td>1</td>\n",
       "      <td>1</td>\n",
       "      <td>32</td>\n",
       "      <td>8</td>\n",
       "      <td>1</td>\n",
       "    </tr>\n",
       "  </tbody>\n",
       "</table>\n",
       "</div>"
      ],
      "text/plain": [
       "                                                  Review  Likes  Year  \\\n",
       "35953  netflix great new rule pay two account kid wat...      2     1   \n",
       "86259  love watch movi mani differ type movi show one...      0     1   \n",
       "72336            amaz low price also use screen new show      1     1   \n",
       "\n",
       "       Character  Words  Emotion  \n",
       "35953         92     20        2  \n",
       "86259         54     12        0  \n",
       "72336         32      8        1  "
      ]
     },
     "execution_count": 41,
     "metadata": {},
     "output_type": "execute_result"
    }
   ],
   "source": [
    "df.sample(3)"
   ]
  },
  {
   "cell_type": "markdown",
   "id": "8a610618",
   "metadata": {
    "papermill": {
     "duration": 0.023256,
     "end_time": "2024-05-27T09:34:04.476230",
     "exception": false,
     "start_time": "2024-05-27T09:34:04.452974",
     "status": "completed"
    },
    "tags": []
   },
   "source": [
    "# Splitting Dataset into Training & Test Set"
   ]
  },
  {
   "cell_type": "code",
   "execution_count": 42,
   "id": "ebbc67c5",
   "metadata": {
    "execution": {
     "iopub.execute_input": "2024-05-27T09:34:04.524049Z",
     "iopub.status.busy": "2024-05-27T09:34:04.523272Z",
     "iopub.status.idle": "2024-05-27T09:34:04.533151Z",
     "shell.execute_reply": "2024-05-27T09:34:04.532341Z"
    },
    "papermill": {
     "duration": 0.035582,
     "end_time": "2024-05-27T09:34:04.534962",
     "exception": false,
     "start_time": "2024-05-27T09:34:04.499380",
     "status": "completed"
    },
    "tags": []
   },
   "outputs": [
    {
     "data": {
      "text/html": [
       "<div>\n",
       "<style scoped>\n",
       "    .dataframe tbody tr th:only-of-type {\n",
       "        vertical-align: middle;\n",
       "    }\n",
       "\n",
       "    .dataframe tbody tr th {\n",
       "        vertical-align: top;\n",
       "    }\n",
       "\n",
       "    .dataframe thead th {\n",
       "        text-align: right;\n",
       "    }\n",
       "</style>\n",
       "<table border=\"1\" class=\"dataframe\">\n",
       "  <thead>\n",
       "    <tr style=\"text-align: right;\">\n",
       "      <th></th>\n",
       "      <th>Review</th>\n",
       "      <th>Likes</th>\n",
       "      <th>Year</th>\n",
       "      <th>Character</th>\n",
       "      <th>Words</th>\n",
       "      <th>Emotion</th>\n",
       "    </tr>\n",
       "  </thead>\n",
       "  <tbody>\n",
       "    <tr>\n",
       "      <th>0</th>\n",
       "      <td>pleas bring back old show got lot popular also...</td>\n",
       "      <td>0</td>\n",
       "      <td>1</td>\n",
       "      <td>91</td>\n",
       "      <td>20</td>\n",
       "      <td>0</td>\n",
       "    </tr>\n",
       "    <tr>\n",
       "      <th>1</th>\n",
       "      <td>thank</td>\n",
       "      <td>0</td>\n",
       "      <td>1</td>\n",
       "      <td>5</td>\n",
       "      <td>1</td>\n",
       "      <td>0</td>\n",
       "    </tr>\n",
       "    <tr>\n",
       "      <th>2</th>\n",
       "      <td>geat free game wantminecraft java edit</td>\n",
       "      <td>0</td>\n",
       "      <td>1</td>\n",
       "      <td>33</td>\n",
       "      <td>6</td>\n",
       "      <td>0</td>\n",
       "    </tr>\n",
       "    <tr>\n",
       "      <th>3</th>\n",
       "      <td>open phone</td>\n",
       "      <td>1</td>\n",
       "      <td>1</td>\n",
       "      <td>9</td>\n",
       "      <td>2</td>\n",
       "      <td>2</td>\n",
       "    </tr>\n",
       "    <tr>\n",
       "      <th>4</th>\n",
       "      <td>user friendli help</td>\n",
       "      <td>0</td>\n",
       "      <td>1</td>\n",
       "      <td>16</td>\n",
       "      <td>3</td>\n",
       "      <td>0</td>\n",
       "    </tr>\n",
       "  </tbody>\n",
       "</table>\n",
       "</div>"
      ],
      "text/plain": [
       "                                              Review  Likes  Year  Character  \\\n",
       "0  pleas bring back old show got lot popular also...      0     1         91   \n",
       "1                                              thank      0     1          5   \n",
       "2             geat free game wantminecraft java edit      0     1         33   \n",
       "3                                         open phone      1     1          9   \n",
       "4                                 user friendli help      0     1         16   \n",
       "\n",
       "   Words  Emotion  \n",
       "0     20        0  \n",
       "1      1        0  \n",
       "2      6        0  \n",
       "3      2        2  \n",
       "4      3        0  "
      ]
     },
     "execution_count": 42,
     "metadata": {},
     "output_type": "execute_result"
    }
   ],
   "source": [
    "df.head()"
   ]
  },
  {
   "cell_type": "code",
   "execution_count": 43,
   "id": "3b425995",
   "metadata": {
    "execution": {
     "iopub.execute_input": "2024-05-27T09:34:04.582986Z",
     "iopub.status.busy": "2024-05-27T09:34:04.582698Z",
     "iopub.status.idle": "2024-05-27T09:34:04.590967Z",
     "shell.execute_reply": "2024-05-27T09:34:04.590318Z"
    },
    "papermill": {
     "duration": 0.034299,
     "end_time": "2024-05-27T09:34:04.592758",
     "exception": false,
     "start_time": "2024-05-27T09:34:04.558459",
     "status": "completed"
    },
    "tags": []
   },
   "outputs": [],
   "source": [
    "X = df.iloc[ : , :-1]\n",
    "y = df.iloc[ : , -1]"
   ]
  },
  {
   "cell_type": "code",
   "execution_count": 44,
   "id": "a547a805",
   "metadata": {
    "execution": {
     "iopub.execute_input": "2024-05-27T09:34:04.640974Z",
     "iopub.status.busy": "2024-05-27T09:34:04.640709Z",
     "iopub.status.idle": "2024-05-27T09:34:04.662284Z",
     "shell.execute_reply": "2024-05-27T09:34:04.661579Z"
    },
    "papermill": {
     "duration": 0.047937,
     "end_time": "2024-05-27T09:34:04.664146",
     "exception": false,
     "start_time": "2024-05-27T09:34:04.616209",
     "status": "completed"
    },
    "tags": []
   },
   "outputs": [],
   "source": [
    "from sklearn.model_selection import train_test_split\n",
    "X_train, X_test, y_train, y_test = train_test_split(X,y,test_size=0.2, random_state=42)"
   ]
  },
  {
   "cell_type": "markdown",
   "id": "65b017aa",
   "metadata": {
    "papermill": {
     "duration": 0.02371,
     "end_time": "2024-05-27T09:34:04.711784",
     "exception": false,
     "start_time": "2024-05-27T09:34:04.688074",
     "status": "completed"
    },
    "tags": []
   },
   "source": [
    "# Data Preprocessing"
   ]
  },
  {
   "cell_type": "markdown",
   "id": "82a3cfcd",
   "metadata": {
    "papermill": {
     "duration": 0.023617,
     "end_time": "2024-05-27T09:34:04.758856",
     "exception": false,
     "start_time": "2024-05-27T09:34:04.735239",
     "status": "completed"
    },
    "tags": []
   },
   "source": [
    "### `Feature Scaling`"
   ]
  },
  {
   "cell_type": "code",
   "execution_count": 45,
   "id": "5f0fe129",
   "metadata": {
    "execution": {
     "iopub.execute_input": "2024-05-27T09:34:04.807776Z",
     "iopub.status.busy": "2024-05-27T09:34:04.807443Z",
     "iopub.status.idle": "2024-05-27T09:34:04.811781Z",
     "shell.execute_reply": "2024-05-27T09:34:04.811038Z"
    },
    "papermill": {
     "duration": 0.030688,
     "end_time": "2024-05-27T09:34:04.813592",
     "exception": false,
     "start_time": "2024-05-27T09:34:04.782904",
     "status": "completed"
    },
    "tags": []
   },
   "outputs": [],
   "source": [
    "df.head()\n",
    "features = ['Likes','Character','Words']"
   ]
  },
  {
   "cell_type": "code",
   "execution_count": 46,
   "id": "679a1176",
   "metadata": {
    "execution": {
     "iopub.execute_input": "2024-05-27T09:34:04.862502Z",
     "iopub.status.busy": "2024-05-27T09:34:04.862214Z",
     "iopub.status.idle": "2024-05-27T09:34:04.866341Z",
     "shell.execute_reply": "2024-05-27T09:34:04.865428Z"
    },
    "papermill": {
     "duration": 0.030906,
     "end_time": "2024-05-27T09:34:04.868273",
     "exception": false,
     "start_time": "2024-05-27T09:34:04.837367",
     "status": "completed"
    },
    "tags": []
   },
   "outputs": [],
   "source": [
    "from sklearn.preprocessing import StandardScaler, MinMaxScaler\n",
    "mms = MinMaxScaler()\n",
    "sc = StandardScaler()"
   ]
  },
  {
   "cell_type": "code",
   "execution_count": 47,
   "id": "93ded3ec",
   "metadata": {
    "execution": {
     "iopub.execute_input": "2024-05-27T09:34:04.916885Z",
     "iopub.status.busy": "2024-05-27T09:34:04.916625Z",
     "iopub.status.idle": "2024-05-27T09:34:04.932749Z",
     "shell.execute_reply": "2024-05-27T09:34:04.932104Z"
    },
    "papermill": {
     "duration": 0.042456,
     "end_time": "2024-05-27T09:34:04.934536",
     "exception": false,
     "start_time": "2024-05-27T09:34:04.892080",
     "status": "completed"
    },
    "tags": []
   },
   "outputs": [],
   "source": [
    "X_train[features] = mms.fit_transform(X_train[features])\n",
    "X_test[features] = mms.transform(X_test[features])"
   ]
  },
  {
   "cell_type": "code",
   "execution_count": 48,
   "id": "0cdeb523",
   "metadata": {
    "execution": {
     "iopub.execute_input": "2024-05-27T09:34:04.983662Z",
     "iopub.status.busy": "2024-05-27T09:34:04.983376Z",
     "iopub.status.idle": "2024-05-27T09:34:04.993622Z",
     "shell.execute_reply": "2024-05-27T09:34:04.992799Z"
    },
    "papermill": {
     "duration": 0.037048,
     "end_time": "2024-05-27T09:34:04.995434",
     "exception": false,
     "start_time": "2024-05-27T09:34:04.958386",
     "status": "completed"
    },
    "tags": []
   },
   "outputs": [
    {
     "data": {
      "text/html": [
       "<div>\n",
       "<style scoped>\n",
       "    .dataframe tbody tr th:only-of-type {\n",
       "        vertical-align: middle;\n",
       "    }\n",
       "\n",
       "    .dataframe tbody tr th {\n",
       "        vertical-align: top;\n",
       "    }\n",
       "\n",
       "    .dataframe thead th {\n",
       "        text-align: right;\n",
       "    }\n",
       "</style>\n",
       "<table border=\"1\" class=\"dataframe\">\n",
       "  <thead>\n",
       "    <tr style=\"text-align: right;\">\n",
       "      <th></th>\n",
       "      <th>Review</th>\n",
       "      <th>Likes</th>\n",
       "      <th>Year</th>\n",
       "      <th>Character</th>\n",
       "      <th>Words</th>\n",
       "    </tr>\n",
       "  </thead>\n",
       "  <tbody>\n",
       "    <tr>\n",
       "      <th>66521</th>\n",
       "      <td>sad compani resort creativ malpractic order ma...</td>\n",
       "      <td>0.000125</td>\n",
       "      <td>1</td>\n",
       "      <td>0.165365</td>\n",
       "      <td>0.145570</td>\n",
       "    </tr>\n",
       "    <tr>\n",
       "      <th>75965</th>\n",
       "      <td>even though delet login account still everi mo...</td>\n",
       "      <td>0.000000</td>\n",
       "      <td>1</td>\n",
       "      <td>0.117188</td>\n",
       "      <td>0.120253</td>\n",
       "    </tr>\n",
       "    <tr>\n",
       "      <th>49525</th>\n",
       "      <td>flick netflix favorit movi watch everyth diffe...</td>\n",
       "      <td>0.000000</td>\n",
       "      <td>1</td>\n",
       "      <td>0.132812</td>\n",
       "      <td>0.126582</td>\n",
       "    </tr>\n",
       "    <tr>\n",
       "      <th>70570</th>\n",
       "      <td>love resum option featur fall asleep show miss...</td>\n",
       "      <td>0.000000</td>\n",
       "      <td>0</td>\n",
       "      <td>0.055990</td>\n",
       "      <td>0.056962</td>\n",
       "    </tr>\n",
       "    <tr>\n",
       "      <th>62196</th>\n",
       "      <td>netflix awesom user cannot check languag witho...</td>\n",
       "      <td>0.000000</td>\n",
       "      <td>1</td>\n",
       "      <td>0.085938</td>\n",
       "      <td>0.069620</td>\n",
       "    </tr>\n",
       "  </tbody>\n",
       "</table>\n",
       "</div>"
      ],
      "text/plain": [
       "                                                  Review     Likes  Year  \\\n",
       "66521  sad compani resort creativ malpractic order ma...  0.000125     1   \n",
       "75965  even though delet login account still everi mo...  0.000000     1   \n",
       "49525  flick netflix favorit movi watch everyth diffe...  0.000000     1   \n",
       "70570  love resum option featur fall asleep show miss...  0.000000     0   \n",
       "62196  netflix awesom user cannot check languag witho...  0.000000     1   \n",
       "\n",
       "       Character     Words  \n",
       "66521   0.165365  0.145570  \n",
       "75965   0.117188  0.120253  \n",
       "49525   0.132812  0.126582  \n",
       "70570   0.055990  0.056962  \n",
       "62196   0.085938  0.069620  "
      ]
     },
     "execution_count": 48,
     "metadata": {},
     "output_type": "execute_result"
    }
   ],
   "source": [
    "X_train.head()"
   ]
  },
  {
   "cell_type": "code",
   "execution_count": 49,
   "id": "47f382fd",
   "metadata": {
    "execution": {
     "iopub.execute_input": "2024-05-27T09:34:05.044636Z",
     "iopub.status.busy": "2024-05-27T09:34:05.044359Z",
     "iopub.status.idle": "2024-05-27T09:34:05.054742Z",
     "shell.execute_reply": "2024-05-27T09:34:05.053936Z"
    },
    "papermill": {
     "duration": 0.037099,
     "end_time": "2024-05-27T09:34:05.056599",
     "exception": false,
     "start_time": "2024-05-27T09:34:05.019500",
     "status": "completed"
    },
    "tags": []
   },
   "outputs": [
    {
     "data": {
      "text/html": [
       "<div>\n",
       "<style scoped>\n",
       "    .dataframe tbody tr th:only-of-type {\n",
       "        vertical-align: middle;\n",
       "    }\n",
       "\n",
       "    .dataframe tbody tr th {\n",
       "        vertical-align: top;\n",
       "    }\n",
       "\n",
       "    .dataframe thead th {\n",
       "        text-align: right;\n",
       "    }\n",
       "</style>\n",
       "<table border=\"1\" class=\"dataframe\">\n",
       "  <thead>\n",
       "    <tr style=\"text-align: right;\">\n",
       "      <th></th>\n",
       "      <th>Review</th>\n",
       "      <th>Likes</th>\n",
       "      <th>Year</th>\n",
       "      <th>Character</th>\n",
       "      <th>Words</th>\n",
       "    </tr>\n",
       "  </thead>\n",
       "  <tbody>\n",
       "    <tr>\n",
       "      <th>2450</th>\n",
       "      <td>app stop work week ago come back terribl</td>\n",
       "      <td>0.000125</td>\n",
       "      <td>1</td>\n",
       "      <td>0.042969</td>\n",
       "      <td>0.050633</td>\n",
       "    </tr>\n",
       "    <tr>\n",
       "      <th>25966</th>\n",
       "      <td>cannot sort list neither runtim imdb rate</td>\n",
       "      <td>0.000000</td>\n",
       "      <td>1</td>\n",
       "      <td>0.045573</td>\n",
       "      <td>0.044304</td>\n",
       "    </tr>\n",
       "    <tr>\n",
       "      <th>25783</th>\n",
       "      <td>gta game work devic problem devic compat version</td>\n",
       "      <td>0.000000</td>\n",
       "      <td>1</td>\n",
       "      <td>0.053385</td>\n",
       "      <td>0.050633</td>\n",
       "    </tr>\n",
       "    <tr>\n",
       "      <th>92803</th>\n",
       "      <td>good rate lost lot good show past year</td>\n",
       "      <td>0.000000</td>\n",
       "      <td>0</td>\n",
       "      <td>0.040365</td>\n",
       "      <td>0.050633</td>\n",
       "    </tr>\n",
       "    <tr>\n",
       "      <th>68453</th>\n",
       "      <td>love netflix app let easi wife use mean anyon ...</td>\n",
       "      <td>0.000125</td>\n",
       "      <td>0</td>\n",
       "      <td>0.054688</td>\n",
       "      <td>0.063291</td>\n",
       "    </tr>\n",
       "  </tbody>\n",
       "</table>\n",
       "</div>"
      ],
      "text/plain": [
       "                                                  Review     Likes  Year  \\\n",
       "2450            app stop work week ago come back terribl  0.000125     1   \n",
       "25966          cannot sort list neither runtim imdb rate  0.000000     1   \n",
       "25783   gta game work devic problem devic compat version  0.000000     1   \n",
       "92803             good rate lost lot good show past year  0.000000     0   \n",
       "68453  love netflix app let easi wife use mean anyon ...  0.000125     0   \n",
       "\n",
       "       Character     Words  \n",
       "2450    0.042969  0.050633  \n",
       "25966   0.045573  0.044304  \n",
       "25783   0.053385  0.050633  \n",
       "92803   0.040365  0.050633  \n",
       "68453   0.054688  0.063291  "
      ]
     },
     "execution_count": 49,
     "metadata": {},
     "output_type": "execute_result"
    }
   ],
   "source": [
    "X_test.head()"
   ]
  },
  {
   "cell_type": "markdown",
   "id": "75e00abf",
   "metadata": {
    "papermill": {
     "duration": 0.024157,
     "end_time": "2024-05-27T09:34:05.104992",
     "exception": false,
     "start_time": "2024-05-27T09:34:05.080835",
     "status": "completed"
    },
    "tags": []
   },
   "source": [
    "# Vectorisation Of Text"
   ]
  },
  {
   "cell_type": "markdown",
   "id": "a05b11e4",
   "metadata": {
    "papermill": {
     "duration": 0.023989,
     "end_time": "2024-05-27T09:34:05.153273",
     "exception": false,
     "start_time": "2024-05-27T09:34:05.129284",
     "status": "completed"
    },
    "tags": []
   },
   "source": [
    "### `Bag Of Words`"
   ]
  },
  {
   "cell_type": "code",
   "execution_count": 50,
   "id": "0005be11",
   "metadata": {
    "execution": {
     "iopub.execute_input": "2024-05-27T09:34:05.202971Z",
     "iopub.status.busy": "2024-05-27T09:34:05.202678Z",
     "iopub.status.idle": "2024-05-27T09:34:05.206580Z",
     "shell.execute_reply": "2024-05-27T09:34:05.205879Z"
    },
    "papermill": {
     "duration": 0.030755,
     "end_time": "2024-05-27T09:34:05.208352",
     "exception": false,
     "start_time": "2024-05-27T09:34:05.177597",
     "status": "completed"
    },
    "tags": []
   },
   "outputs": [],
   "source": [
    "from sklearn.feature_extraction.text import CountVectorizer\n",
    "cv = CountVectorizer(max_features=5000)"
   ]
  },
  {
   "cell_type": "code",
   "execution_count": 51,
   "id": "7f2f500b",
   "metadata": {
    "execution": {
     "iopub.execute_input": "2024-05-27T09:34:05.258499Z",
     "iopub.status.busy": "2024-05-27T09:34:05.258211Z",
     "iopub.status.idle": "2024-05-27T09:34:05.286398Z",
     "shell.execute_reply": "2024-05-27T09:34:05.285661Z"
    },
    "papermill": {
     "duration": 0.055642,
     "end_time": "2024-05-27T09:34:05.288456",
     "exception": false,
     "start_time": "2024-05-27T09:34:05.232814",
     "status": "completed"
    },
    "tags": []
   },
   "outputs": [],
   "source": [
    "X_train = X_train.values\n",
    "X_test = X_test.values"
   ]
  },
  {
   "cell_type": "code",
   "execution_count": 52,
   "id": "19377d54",
   "metadata": {
    "execution": {
     "iopub.execute_input": "2024-05-27T09:34:05.339640Z",
     "iopub.status.busy": "2024-05-27T09:34:05.339295Z",
     "iopub.status.idle": "2024-05-27T09:34:20.291260Z",
     "shell.execute_reply": "2024-05-27T09:34:20.290408Z"
    },
    "papermill": {
     "duration": 14.979811,
     "end_time": "2024-05-27T09:34:20.293555",
     "exception": false,
     "start_time": "2024-05-27T09:34:05.313744",
     "status": "completed"
    },
    "tags": []
   },
   "outputs": [],
   "source": [
    "X_train_text = X_train[ : , 0]\n",
    "X_other_features = X_train[ : , 1: ]\n",
    "X_transformed_text = cv.fit_transform(X_train_text).toarray()\n",
    "X_train_transformed = np.concatenate((X_transformed_text, X_other_features), axis=1)"
   ]
  },
  {
   "cell_type": "code",
   "execution_count": 53,
   "id": "e830e439",
   "metadata": {
    "execution": {
     "iopub.execute_input": "2024-05-27T09:34:20.345049Z",
     "iopub.status.busy": "2024-05-27T09:34:20.344738Z",
     "iopub.status.idle": "2024-05-27T09:34:20.350447Z",
     "shell.execute_reply": "2024-05-27T09:34:20.349604Z"
    },
    "papermill": {
     "duration": 0.033185,
     "end_time": "2024-05-27T09:34:20.352230",
     "exception": false,
     "start_time": "2024-05-27T09:34:20.319045",
     "status": "completed"
    },
    "tags": []
   },
   "outputs": [
    {
     "data": {
      "text/plain": [
       "(88332, 5004)"
      ]
     },
     "execution_count": 53,
     "metadata": {},
     "output_type": "execute_result"
    }
   ],
   "source": [
    "X_train = X_train_transformed\n",
    "X_train.shape"
   ]
  },
  {
   "cell_type": "code",
   "execution_count": 54,
   "id": "5904c598",
   "metadata": {
    "execution": {
     "iopub.execute_input": "2024-05-27T09:34:20.403496Z",
     "iopub.status.busy": "2024-05-27T09:34:20.403228Z",
     "iopub.status.idle": "2024-05-27T09:34:24.322855Z",
     "shell.execute_reply": "2024-05-27T09:34:24.321852Z"
    },
    "papermill": {
     "duration": 3.948369,
     "end_time": "2024-05-27T09:34:24.325592",
     "exception": false,
     "start_time": "2024-05-27T09:34:20.377223",
     "status": "completed"
    },
    "tags": []
   },
   "outputs": [],
   "source": [
    "X_test_text = X_test[ : , 0]\n",
    "X_other_features = X_test[ : , 1: ]\n",
    "X_transformed_text = cv.transform(X_test_text).toarray()\n",
    "X_test_transformed = np.concatenate((X_transformed_text, X_other_features), axis=1)"
   ]
  },
  {
   "cell_type": "code",
   "execution_count": 55,
   "id": "d488ca77",
   "metadata": {
    "execution": {
     "iopub.execute_input": "2024-05-27T09:34:24.377769Z",
     "iopub.status.busy": "2024-05-27T09:34:24.377411Z",
     "iopub.status.idle": "2024-05-27T09:34:24.383158Z",
     "shell.execute_reply": "2024-05-27T09:34:24.382300Z"
    },
    "papermill": {
     "duration": 0.033439,
     "end_time": "2024-05-27T09:34:24.384973",
     "exception": false,
     "start_time": "2024-05-27T09:34:24.351534",
     "status": "completed"
    },
    "tags": []
   },
   "outputs": [
    {
     "data": {
      "text/plain": [
       "(22084, 5004)"
      ]
     },
     "execution_count": 55,
     "metadata": {},
     "output_type": "execute_result"
    }
   ],
   "source": [
    "X_test = X_test_transformed\n",
    "X_test.shape"
   ]
  },
  {
   "cell_type": "markdown",
   "id": "17885468",
   "metadata": {
    "papermill": {
     "duration": 0.024716,
     "end_time": "2024-05-27T09:34:24.434828",
     "exception": false,
     "start_time": "2024-05-27T09:34:24.410112",
     "status": "completed"
    },
    "tags": []
   },
   "source": [
    "# Evaluating Classification Models"
   ]
  },
  {
   "cell_type": "code",
   "execution_count": 56,
   "id": "c102b53f",
   "metadata": {
    "execution": {
     "iopub.execute_input": "2024-05-27T09:34:24.485429Z",
     "iopub.status.busy": "2024-05-27T09:34:24.485140Z",
     "iopub.status.idle": "2024-05-27T09:34:24.749096Z",
     "shell.execute_reply": "2024-05-27T09:34:24.748365Z"
    },
    "papermill": {
     "duration": 0.291641,
     "end_time": "2024-05-27T09:34:24.751220",
     "exception": false,
     "start_time": "2024-05-27T09:34:24.459579",
     "status": "completed"
    },
    "tags": []
   },
   "outputs": [],
   "source": [
    "from sklearn.naive_bayes import GaussianNB, MultinomialNB, BernoulliNB\n",
    "from sklearn.neighbors import KNeighborsClassifier\n",
    "from sklearn.svm import SVC\n",
    "from sklearn.tree import DecisionTreeClassifier\n",
    "from sklearn.ensemble import RandomForestClassifier, ExtraTreesClassifier, AdaBoostClassifier\n",
    "from xgboost import XGBClassifier"
   ]
  },
  {
   "cell_type": "code",
   "execution_count": 57,
   "id": "175886a3",
   "metadata": {
    "execution": {
     "iopub.execute_input": "2024-05-27T09:34:24.802737Z",
     "iopub.status.busy": "2024-05-27T09:34:24.802412Z",
     "iopub.status.idle": "2024-05-27T09:34:24.808017Z",
     "shell.execute_reply": "2024-05-27T09:34:24.807194Z"
    },
    "papermill": {
     "duration": 0.033247,
     "end_time": "2024-05-27T09:34:24.809858",
     "exception": false,
     "start_time": "2024-05-27T09:34:24.776611",
     "status": "completed"
    },
    "tags": []
   },
   "outputs": [],
   "source": [
    "bc = GaussianNB()\n",
    "mnc = MultinomialNB()\n",
    "bnc = BernoulliNB()\n",
    "knn = KNeighborsClassifier()\n",
    "svc = SVC(kernel='rbf', gamma=1.0)\n",
    "dtc = DecisionTreeClassifier()\n",
    "rfc = RandomForestClassifier(n_estimators=50, random_state=42)\n",
    "etc = ExtraTreesClassifier(n_estimators=50, random_state=42)\n",
    "abc = AdaBoostClassifier(n_estimators=50, random_state=42)\n",
    "xgbc = XGBClassifier(n_estimators=50, random_state=42)"
   ]
  },
  {
   "cell_type": "code",
   "execution_count": 58,
   "id": "51588fe0",
   "metadata": {
    "execution": {
     "iopub.execute_input": "2024-05-27T09:34:24.861725Z",
     "iopub.status.busy": "2024-05-27T09:34:24.860876Z",
     "iopub.status.idle": "2024-05-27T09:34:24.865679Z",
     "shell.execute_reply": "2024-05-27T09:34:24.864906Z"
    },
    "papermill": {
     "duration": 0.032611,
     "end_time": "2024-05-27T09:34:24.867542",
     "exception": false,
     "start_time": "2024-05-27T09:34:24.834931",
     "status": "completed"
    },
    "tags": []
   },
   "outputs": [],
   "source": [
    "classfiers = {\n",
    "    'GaussianNB': bc,\n",
    "    'MultinomialNB': mnc,\n",
    "    'BernoulliNB': bnc,\n",
    "    'KNN':knn,\n",
    "#     'SVC':svc,\n",
    "    'DecisionTreeClassifier': dtc,\n",
    "    'RandomForestClassifier':rfc,\n",
    "    'ExtraTreesClassifier':etc,\n",
    "#     'AdaBoostClassifier':abc,\n",
    "    'XGBC':xgbc\n",
    "}"
   ]
  },
  {
   "cell_type": "code",
   "execution_count": 59,
   "id": "3027b566",
   "metadata": {
    "execution": {
     "iopub.execute_input": "2024-05-27T09:34:24.918828Z",
     "iopub.status.busy": "2024-05-27T09:34:24.918576Z",
     "iopub.status.idle": "2024-05-27T09:34:24.924299Z",
     "shell.execute_reply": "2024-05-27T09:34:24.923529Z"
    },
    "papermill": {
     "duration": 0.033612,
     "end_time": "2024-05-27T09:34:24.926141",
     "exception": false,
     "start_time": "2024-05-27T09:34:24.892529",
     "status": "completed"
    },
    "tags": []
   },
   "outputs": [],
   "source": [
    "from sklearn.metrics import accuracy_score, confusion_matrix, precision_score\n",
    "from sklearn.model_selection import cross_val_score\n",
    "\n",
    "def train_model(clf):\n",
    "    clf.fit(X_train,y_train)\n",
    "    y_pred = clf.predict(X_test)\n",
    "    score = accuracy_score(y_test, y_pred)\n",
    "    p_score = precision_score(y_test, y_pred, average='weighted')\n",
    "    kf_score = cross_val_score(estimator=clf, X=X_train, y=y_train, cv=5)\n",
    "    return str(score*100)+'%' , str(p_score*100)+'%', str(kf_score.mean()*100)+'%'"
   ]
  },
  {
   "cell_type": "code",
   "execution_count": 60,
   "id": "74f1d145",
   "metadata": {
    "execution": {
     "iopub.execute_input": "2024-05-27T09:34:24.977280Z",
     "iopub.status.busy": "2024-05-27T09:34:24.977028Z",
     "iopub.status.idle": "2024-05-27T11:12:15.828737Z",
     "shell.execute_reply": "2024-05-27T11:12:15.827862Z"
    },
    "papermill": {
     "duration": 5870.905444,
     "end_time": "2024-05-27T11:12:15.856577",
     "exception": false,
     "start_time": "2024-05-27T09:34:24.951133",
     "status": "completed"
    },
    "tags": []
   },
   "outputs": [
    {
     "name": "stdout",
     "output_type": "stream",
     "text": [
      "GaussianNB has been successfully evaluated. Total time taken is: 284.9024577140808 seconds\n",
      "MultinomialNB has been successfully evaluated. Total time taken is: 248.7667248249054 seconds\n",
      "BernoulliNB has been successfully evaluated. Total time taken is: 267.15570068359375 seconds\n",
      "KNN has been successfully evaluated. Total time taken is: 1070.0877289772034 seconds\n",
      "DecisionTreeClassifier has been successfully evaluated. Total time taken is: 823.3638281822205 seconds\n",
      "RandomForestClassifier has been successfully evaluated. Total time taken is: 771.759515285492 seconds\n",
      "ExtraTreesClassifier has been successfully evaluated. Total time taken is: 1694.3597786426544 seconds\n",
      "XGBC has been successfully evaluated. Total time taken is: 710.4503045082092 seconds\n"
     ]
    }
   ],
   "source": [
    "precision = []\n",
    "accuracy = []\n",
    "k_fold = []\n",
    "start_time = time.time()\n",
    "\n",
    "for model,classifier in classfiers.items():\n",
    "    acc,prec,kf = train_model(classifier)\n",
    "    accuracy.append(acc)\n",
    "    precision.append(prec)\n",
    "    k_fold.append(kf)\n",
    "    finish_time = time.time()\n",
    "    print(\"{} has been successfully evaluated. Total time taken is: {} seconds\".format(model, (finish_time-start_time)))\n",
    "    start_time = finish_time"
   ]
  },
  {
   "cell_type": "code",
   "execution_count": 61,
   "id": "6df3e5cb",
   "metadata": {
    "execution": {
     "iopub.execute_input": "2024-05-27T11:12:15.909916Z",
     "iopub.status.busy": "2024-05-27T11:12:15.909629Z",
     "iopub.status.idle": "2024-05-27T11:12:15.914514Z",
     "shell.execute_reply": "2024-05-27T11:12:15.913778Z"
    },
    "papermill": {
     "duration": 0.033985,
     "end_time": "2024-05-27T11:12:15.916368",
     "exception": false,
     "start_time": "2024-05-27T11:12:15.882383",
     "status": "completed"
    },
    "tags": []
   },
   "outputs": [],
   "source": [
    "score_comparison = pd.DataFrame({'Model': classfiers.keys(), 'Accuracy': accuracy, 'Precision': precision, 'K-Fold': k_fold})"
   ]
  },
  {
   "cell_type": "code",
   "execution_count": 62,
   "id": "e67c26ee",
   "metadata": {
    "execution": {
     "iopub.execute_input": "2024-05-27T11:12:15.969555Z",
     "iopub.status.busy": "2024-05-27T11:12:15.969002Z",
     "iopub.status.idle": "2024-05-27T11:12:15.978457Z",
     "shell.execute_reply": "2024-05-27T11:12:15.977705Z"
    },
    "papermill": {
     "duration": 0.037898,
     "end_time": "2024-05-27T11:12:15.980340",
     "exception": false,
     "start_time": "2024-05-27T11:12:15.942442",
     "status": "completed"
    },
    "tags": []
   },
   "outputs": [
    {
     "data": {
      "text/html": [
       "<div>\n",
       "<style scoped>\n",
       "    .dataframe tbody tr th:only-of-type {\n",
       "        vertical-align: middle;\n",
       "    }\n",
       "\n",
       "    .dataframe tbody tr th {\n",
       "        vertical-align: top;\n",
       "    }\n",
       "\n",
       "    .dataframe thead th {\n",
       "        text-align: right;\n",
       "    }\n",
       "</style>\n",
       "<table border=\"1\" class=\"dataframe\">\n",
       "  <thead>\n",
       "    <tr style=\"text-align: right;\">\n",
       "      <th></th>\n",
       "      <th>Model</th>\n",
       "      <th>Accuracy</th>\n",
       "      <th>Precision</th>\n",
       "      <th>K-Fold</th>\n",
       "    </tr>\n",
       "  </thead>\n",
       "  <tbody>\n",
       "    <tr>\n",
       "      <th>0</th>\n",
       "      <td>GaussianNB</td>\n",
       "      <td>18.465857634486508%</td>\n",
       "      <td>66.88305212524601%</td>\n",
       "      <td>19.09500591438358%</td>\n",
       "    </tr>\n",
       "    <tr>\n",
       "      <th>1</th>\n",
       "      <td>MultinomialNB</td>\n",
       "      <td>75.35772504980982%</td>\n",
       "      <td>73.96877118884315%</td>\n",
       "      <td>75.32491474942383%</td>\n",
       "    </tr>\n",
       "    <tr>\n",
       "      <th>2</th>\n",
       "      <td>BernoulliNB</td>\n",
       "      <td>74.52454265531607%</td>\n",
       "      <td>73.52952931936277%</td>\n",
       "      <td>74.55509103913678%</td>\n",
       "    </tr>\n",
       "    <tr>\n",
       "      <th>3</th>\n",
       "      <td>KNN</td>\n",
       "      <td>68.84622351023366%</td>\n",
       "      <td>65.83336772919127%</td>\n",
       "      <td>68.712364191074%</td>\n",
       "    </tr>\n",
       "    <tr>\n",
       "      <th>4</th>\n",
       "      <td>DecisionTreeClassifier</td>\n",
       "      <td>68.26661836623799%</td>\n",
       "      <td>66.91816202692526%</td>\n",
       "      <td>68.01046776461817%</td>\n",
       "    </tr>\n",
       "    <tr>\n",
       "      <th>5</th>\n",
       "      <td>RandomForestClassifier</td>\n",
       "      <td>77.52218800941858%</td>\n",
       "      <td>72.83073678547152%</td>\n",
       "      <td>77.73400785969548%</td>\n",
       "    </tr>\n",
       "    <tr>\n",
       "      <th>6</th>\n",
       "      <td>ExtraTreesClassifier</td>\n",
       "      <td>78.19688462235102%</td>\n",
       "      <td>73.43362056711275%</td>\n",
       "      <td>78.24005334970013%</td>\n",
       "    </tr>\n",
       "    <tr>\n",
       "      <th>7</th>\n",
       "      <td>XGBC</td>\n",
       "      <td>77.1327658032965%</td>\n",
       "      <td>73.63398148591254%</td>\n",
       "      <td>77.13060155078084%</td>\n",
       "    </tr>\n",
       "  </tbody>\n",
       "</table>\n",
       "</div>"
      ],
      "text/plain": [
       "                    Model             Accuracy           Precision  \\\n",
       "0              GaussianNB  18.465857634486508%  66.88305212524601%   \n",
       "1           MultinomialNB   75.35772504980982%  73.96877118884315%   \n",
       "2             BernoulliNB   74.52454265531607%  73.52952931936277%   \n",
       "3                     KNN   68.84622351023366%  65.83336772919127%   \n",
       "4  DecisionTreeClassifier   68.26661836623799%  66.91816202692526%   \n",
       "5  RandomForestClassifier   77.52218800941858%  72.83073678547152%   \n",
       "6    ExtraTreesClassifier   78.19688462235102%  73.43362056711275%   \n",
       "7                    XGBC    77.1327658032965%  73.63398148591254%   \n",
       "\n",
       "               K-Fold  \n",
       "0  19.09500591438358%  \n",
       "1  75.32491474942383%  \n",
       "2  74.55509103913678%  \n",
       "3    68.712364191074%  \n",
       "4  68.01046776461817%  \n",
       "5  77.73400785969548%  \n",
       "6  78.24005334970013%  \n",
       "7  77.13060155078084%  "
      ]
     },
     "execution_count": 62,
     "metadata": {},
     "output_type": "execute_result"
    }
   ],
   "source": [
    "score_comparison"
   ]
  },
  {
   "cell_type": "code",
   "execution_count": 63,
   "id": "5ef81c77",
   "metadata": {
    "execution": {
     "iopub.execute_input": "2024-05-27T11:12:16.033893Z",
     "iopub.status.busy": "2024-05-27T11:12:16.033658Z",
     "iopub.status.idle": "2024-05-27T11:12:16.047769Z",
     "shell.execute_reply": "2024-05-27T11:12:16.046945Z"
    },
    "papermill": {
     "duration": 0.043005,
     "end_time": "2024-05-27T11:12:16.049589",
     "exception": false,
     "start_time": "2024-05-27T11:12:16.006584",
     "status": "completed"
    },
    "tags": []
   },
   "outputs": [
    {
     "name": "stdout",
     "output_type": "stream",
     "text": [
      "Happy\n"
     ]
    }
   ],
   "source": [
    "def predict_emotion(text):\n",
    "    text = preprocess_text(text)\n",
    "    word_len, char_len = create_new_features(text)\n",
    "    text_features = cv.transform([text])\n",
    "    text_features_dense = text_features.toarray()\n",
    "    zero_arr = np.array([0])\n",
    "    one_arr = np.array([1])\n",
    "    char_len_arr = np.array([char_len])\n",
    "    word_len_arr = np.array([word_len])\n",
    "    if text_features_dense.ndim > 1:\n",
    "        text_features_dense = np.squeeze(text_features_dense)\n",
    "    features = np.hstack((text_features_dense, zero_arr, one_arr, char_len_arr, word_len_arr))\n",
    "    features = features.reshape(1, -1)\n",
    "    prediction = rfc.predict(features)\n",
    "    if prediction==0:\n",
    "        return \"Happy\"\n",
    "    elif prediction==1:\n",
    "        return \"Neutral\"\n",
    "    return \"Sad\"\n",
    "\n",
    "prediction = predict_emotion(\"It is very easy to work with and even the kids love it!\")\n",
    "print(prediction)"
   ]
  }
 ],
 "metadata": {
  "kaggle": {
   "accelerator": "nvidiaTeslaT4",
   "dataSources": [
    {
     "datasetId": 4981370,
     "sourceId": 8525391,
     "sourceType": "datasetVersion"
    }
   ],
   "dockerImageVersionId": 30699,
   "isGpuEnabled": true,
   "isInternetEnabled": true,
   "language": "python",
   "sourceType": "notebook"
  },
  "kernelspec": {
   "display_name": "Python 3",
   "language": "python",
   "name": "python3"
  },
  "language_info": {
   "codemirror_mode": {
    "name": "ipython",
    "version": 3
   },
   "file_extension": ".py",
   "mimetype": "text/x-python",
   "name": "python",
   "nbconvert_exporter": "python",
   "pygments_lexer": "ipython3",
   "version": "3.10.13"
  },
  "papermill": {
   "default_parameters": {},
   "duration": 6393.947699,
   "end_time": "2024-05-27T11:12:18.905832",
   "environment_variables": {},
   "exception": null,
   "input_path": "__notebook__.ipynb",
   "output_path": "__notebook__.ipynb",
   "parameters": {},
   "start_time": "2024-05-27T09:25:44.958133",
   "version": "2.5.0"
  }
 },
 "nbformat": 4,
 "nbformat_minor": 5
}
